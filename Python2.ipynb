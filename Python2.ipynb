{
 "metadata": {
  "name": "",
  "signature": "sha256:a9e418f418c3674959c4eec601026b0441566e0060c3ed90c685925e7b5b9f76"
 },
 "nbformat": 3,
 "nbformat_minor": 0,
 "worksheets": [
  {
   "cells": [
    {
     "cell_type": "markdown",
     "metadata": {},
     "source": [
      "# `print_function`"
     ]
    },
    {
     "cell_type": "code",
     "collapsed": false,
     "input": [
      "print \"hello world\"\n",
      "print \"hello\", \"world\""
     ],
     "language": "python",
     "metadata": {},
     "outputs": [
      {
       "output_type": "stream",
       "stream": "stdout",
       "text": [
        "hello world\n",
        "hello world\n"
       ]
      }
     ],
     "prompt_number": 9
    },
    {
     "cell_type": "code",
     "collapsed": false,
     "input": [
      "from __future__ import print_function\n",
      "print \"hello wordl\"\n",
      "print(\"hello world\")\n",
      "print(\"hello\", \"world\")"
     ],
     "language": "python",
     "metadata": {},
     "outputs": [
      {
       "ename": "SyntaxError",
       "evalue": "invalid syntax (<ipython-input-11-64ab20663dec>, line 2)",
       "output_type": "pyerr",
       "traceback": [
        "\u001b[0;36m  File \u001b[0;32m\"<ipython-input-11-64ab20663dec>\"\u001b[0;36m, line \u001b[0;32m2\u001b[0m\n\u001b[0;31m    print \"hello wordl\"\u001b[0m\n\u001b[0m                      ^\u001b[0m\n\u001b[0;31mSyntaxError\u001b[0m\u001b[0;31m:\u001b[0m invalid syntax\n"
       ]
      }
     ],
     "prompt_number": 11
    },
    {
     "cell_type": "markdown",
     "metadata": {},
     "source": [
      "# `division`"
     ]
    },
    {
     "cell_type": "code",
     "collapsed": false,
     "input": [
      "print 1 / 2 # integer division\n",
      "print 1 / 2.0\n",
      "print 1.0 / 2\n",
      "print 1 // 2 # integer division (alternativ syntaks)\n",
      "print 1.0 // 2.0 # integer division (alternativ syntaks)"
     ],
     "language": "python",
     "metadata": {},
     "outputs": [
      {
       "output_type": "stream",
       "stream": "stdout",
       "text": [
        "0\n",
        "0.5\n",
        "0.5\n",
        "0\n",
        "0.0\n"
       ]
      }
     ],
     "prompt_number": 2
    },
    {
     "cell_type": "code",
     "collapsed": false,
     "input": [
      "from __future__ import division\n",
      "\n",
      "print 1 / 2\n",
      "print 1 / 2.0\n",
      "print 1.0 / 2\n",
      "print 1 // 2 # integer division"
     ],
     "language": "python",
     "metadata": {},
     "outputs": [
      {
       "output_type": "stream",
       "stream": "stdout",
       "text": [
        "0.5\n",
        "0.5\n",
        "0.5\n",
        "0\n"
       ]
      }
     ],
     "prompt_number": 3
    },
    {
     "cell_type": "markdown",
     "metadata": {},
     "source": [
      "# `int` og `long`"
     ]
    },
    {
     "cell_type": "code",
     "collapsed": false,
     "input": [
      "import sys\n",
      "import math\n",
      "print math.log(sys.maxint, 2)\n",
      "\n",
      "print type(1)\n",
      "print type(1L)"
     ],
     "language": "python",
     "metadata": {},
     "outputs": [
      {
       "output_type": "stream",
       "stream": "stdout",
       "text": [
        "63.0\n",
        "<type 'int'>\n",
        "<type 'long'>\n"
       ]
      }
     ],
     "prompt_number": 8
    },
    {
     "cell_type": "markdown",
     "metadata": {},
     "source": [
      "# Text og data i Python 2.x: \n",
      "- text OG data: `str` - kan ses p\u00e5 som en tuple av 8-bit bytes i en udefinert encoding\n",
      "- text : `unicode` - kan ses p\u00e5 som en tuple av unicode characters\n",
      "\n",
      "Problem: text kan ha en udefinert encoding, og dette kan skape problemer hvis man ikke vet hvilken encoding de forskjellige stringene man opererer med har"
     ]
    },
    {
     "cell_type": "code",
     "collapsed": false,
     "input": [
      "\n",
      "string = \"P\u00ffth\u00f5\u00f1\"          # tuple av 8-bit bytes i (tilfeldigvis(!)) UTF-8\n",
      "unicode_object = u\"P\u00ffth\u00f5\u00f1\" # tuple av unicode characters\n",
      "print type(string)\n",
      "print type(unicode_object)"
     ],
     "language": "python",
     "metadata": {},
     "outputs": [
      {
       "output_type": "stream",
       "stream": "stdout",
       "text": [
        "ascii\n",
        "<type 'str'>\n",
        "<type 'unicode'>\n"
       ]
      }
     ],
     "prompt_number": 12
    },
    {
     "cell_type": "code",
     "collapsed": false,
     "input": [
      "print \"len(string) == len(unicode_object) is {}\".format(len(string) == len(unicode_object))\n",
      "print \"len(string) == {}\".format(len(string))\n",
      "print \"len(unicode_object) == {}\".format(len(unicode_object))"
     ],
     "language": "python",
     "metadata": {},
     "outputs": [
      {
       "output_type": "stream",
       "stream": "stdout",
       "text": [
        "len(string) == len(unicode_object) is False\n",
        "len(string) == 9\n",
        "len(unicode_object) == 6\n"
       ]
      }
     ],
     "prompt_number": 10
    },
    {
     "cell_type": "code",
     "collapsed": false,
     "input": [
      "print \"string[-1] == {}\".format(string[-1])\n",
      "print u\"unicode_object[-1] == {}\".format(unicode_object[-1])"
     ],
     "language": "python",
     "metadata": {},
     "outputs": [
      {
       "output_type": "stream",
       "stream": "stdout",
       "text": [
        "string[-1] == \ufffd\n",
        "unicode_object[-1] == \u00f1\n"
       ]
      }
     ],
     "prompt_number": 13
    },
    {
     "cell_type": "code",
     "collapsed": false,
     "input": [
      "for char in string:\n",
      "    print char"
     ],
     "language": "python",
     "metadata": {},
     "outputs": [
      {
       "output_type": "stream",
       "stream": "stdout",
       "text": [
        "P\n",
        "\ufffd\n",
        "\ufffd\n",
        "t\n",
        "h\n",
        "\ufffd\n",
        "\ufffd\n",
        "\ufffd\n",
        "\ufffd\n"
       ]
      }
     ],
     "prompt_number": 14
    },
    {
     "cell_type": "code",
     "collapsed": false,
     "input": [
      "for char in unicode_object:\n",
      "    print char"
     ],
     "language": "python",
     "metadata": {},
     "outputs": [
      {
       "output_type": "stream",
       "stream": "stdout",
       "text": [
        "P\n",
        "\u00ff\n",
        "t\n",
        "h\n",
        "\u00f5\n",
        "\u00f1\n"
       ]
      }
     ],
     "prompt_number": 15
    },
    {
     "cell_type": "code",
     "collapsed": false,
     "input": [
      "print \"\".join(reversed(string))\n",
      "print [c for c in string]\n",
      "print [c for c in reversed(string)]"
     ],
     "language": "python",
     "metadata": {},
     "outputs": [
      {
       "output_type": "stream",
       "stream": "stdout",
       "text": [
        "\ufffd\u00f5\ufffdht\ufffd\ufffdP\n",
        "['P', '\\xc3', '\\xbf', 't', 'h', '\\xc3', '\\xb5', '\\xc3', '\\xb1']\n",
        "['\\xb1', '\\xc3', '\\xb5', '\\xc3', 'h', 't', '\\xbf', '\\xc3', 'P']\n"
       ]
      }
     ],
     "prompt_number": 20
    },
    {
     "cell_type": "code",
     "collapsed": false,
     "input": [
      "with open(\"/usr/share/dict/words\") as f:\n",
      "    words = [line.strip() for line in f.readlines()]\n",
      "    print type(words[0])"
     ],
     "language": "python",
     "metadata": {},
     "outputs": [
      {
       "output_type": "stream",
       "stream": "stdout",
       "text": [
        "<type 'str'>\n"
       ]
      }
     ],
     "prompt_number": 21
    },
    {
     "cell_type": "markdown",
     "metadata": {},
     "source": [
      "## Kr\u00e5ketegn"
     ]
    },
    {
     "cell_type": "code",
     "collapsed": false,
     "input": [
      "with open(\"utf-16le.txt\") as f:\n",
      "    content = [line.strip() for line in f.readlines()]\n",
      "    print type(content[0])\n",
      "    print \"\".join(content)"
     ],
     "language": "python",
     "metadata": {},
     "outputs": [
      {
       "output_type": "stream",
       "stream": "stdout",
       "text": [
        "<type 'str'>\n",
        "P\u0000\ufffd\u0000t\u0000h\u0000\ufffd\u0000\ufffd\u0000 \u0000\ufffd\u0000\ufffd\u0000 \u0000g\u0000\ufffd\u0000\ufffd\u0000\n"
       ]
      }
     ],
     "prompt_number": 22
    },
    {
     "cell_type": "code",
     "collapsed": false,
     "input": [
      "with open(\"utf-16le.txt\") as f:\n",
      "    print \"\".join([line.decode(\"UTF-16LE\").strip() for line in f.readlines()])"
     ],
     "language": "python",
     "metadata": {},
     "outputs": [
      {
       "output_type": "stream",
       "stream": "stdout",
       "text": [
        "P\u00a5th\u00f8\u00f1 \u00e9\u00ae g\u00f6\u00ff\n"
       ]
      }
     ],
     "prompt_number": 24
    },
    {
     "cell_type": "code",
     "collapsed": false,
     "input": [
      "import locale\n",
      "locale.getpreferredencoding()"
     ],
     "language": "python",
     "metadata": {},
     "outputs": [
      {
       "metadata": {},
       "output_type": "pyout",
       "prompt_number": 25,
       "text": [
        "'UTF-8'"
       ]
      }
     ],
     "prompt_number": 25
    },
    {
     "cell_type": "code",
     "collapsed": false,
     "input": [
      "one, two =  (1, 2)\n",
      "print(one)\n",
      "print(two)"
     ],
     "language": "python",
     "metadata": {},
     "outputs": [
      {
       "output_type": "stream",
       "stream": "stdout",
       "text": [
        "1\n",
        "2\n"
       ]
      }
     ],
     "prompt_number": 26
    },
    {
     "cell_type": "code",
     "collapsed": false,
     "input": [
      "print type(xrange(1))\n",
      "print type(range(1))"
     ],
     "language": "python",
     "metadata": {},
     "outputs": [
      {
       "output_type": "stream",
       "stream": "stdout",
       "text": [
        "<type 'xrange'>\n",
        "<type 'list'>\n"
       ]
      }
     ],
     "prompt_number": 30
    },
    {
     "cell_type": "markdown",
     "metadata": {},
     "source": [
      "# Ny syntax for except"
     ]
    },
    {
     "cell_type": "code",
     "collapsed": false,
     "input": [
      "try:\n",
      "    #raise TypeError(\"oh no\")\n",
      "    raise AttributeError(\"oh no\")\n",
      "except (TypeError, AttributeError), e:\n",
      "    print e "
     ],
     "language": "python",
     "metadata": {},
     "outputs": [
      {
       "output_type": "stream",
       "stream": "stdout",
       "text": [
        "oh no\n"
       ]
      }
     ],
     "prompt_number": 34
    },
    {
     "cell_type": "code",
     "collapsed": false,
     "input": [
      "def foo():\n",
      "    return 1/0\n",
      "\n",
      "try:\n",
      "    foo()\n",
      "except ZeroDivisionError, zde:\n",
      "    raise ValueError(zde)"
     ],
     "language": "python",
     "metadata": {},
     "outputs": []
    },
    {
     "cell_type": "markdown",
     "metadata": {},
     "source": [
      "# Old- vs New-style classes"
     ]
    },
    {
     "cell_type": "code",
     "collapsed": false,
     "input": [
      "class Foo(): # old style class\n",
      "    pass\n",
      "\n",
      "class Bar(object): # new style class\n",
      "    pass"
     ],
     "language": "python",
     "metadata": {},
     "outputs": [],
     "prompt_number": 35
    }
   ],
   "metadata": {}
  }
 ]
}
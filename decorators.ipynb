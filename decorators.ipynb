{
 "metadata": {
  "name": ""
 },
 "nbformat": 3,
 "nbformat_minor": 0,
 "worksheets": [
  {
   "cells": [
    {
     "cell_type": "markdown",
     "metadata": {},
     "source": [
      "### En enkel funksjon"
     ]
    },
    {
     "cell_type": "code",
     "collapsed": false,
     "input": [
      "def print_stuff(msg):\n",
      "    print msg\n",
      "\n",
      "print_stuff('spam, eggs, sausage & spam')"
     ],
     "language": "python",
     "metadata": {},
     "outputs": [
      {
       "output_type": "stream",
       "stream": "stdout",
       "text": [
        "spam, eggs, sausage & spam\n"
       ]
      }
     ],
     "prompt_number": 219
    },
    {
     "cell_type": "markdown",
     "metadata": {},
     "source": [
      "### Noen ganger er det nyttig med tracelogging, s\u00e5nn at man kan debugge lettere"
     ]
    },
    {
     "cell_type": "code",
     "collapsed": false,
     "input": [
      "def print_stuff(msg):\n",
      "    print 'Entering print_stuff(msg={})'.format(msg)\n",
      "    print msg\n",
      "    print 'Exiting print_stuff(msg={})'.format(msg)\n",
      "\n",
      "print_stuff('spam, eggs, sausage & spam')"
     ],
     "language": "python",
     "metadata": {},
     "outputs": [
      {
       "output_type": "stream",
       "stream": "stdout",
       "text": [
        "Entering print_stuff(msg=spam, eggs, sausage & spam)\n",
        "spam, eggs, sausage & spam\n",
        "Exiting print_stuff(msg=spam, eggs, sausage & spam)\n"
       ]
      }
     ],
     "prompt_number": 220
    },
    {
     "cell_type": "markdown",
     "metadata": {},
     "source": [
      "### The General Problem\n",
      "![the general problem](files/the_general_problem.png)"
     ]
    },
    {
     "cell_type": "code",
     "collapsed": false,
     "input": [
      "def trace(function):\n",
      "    def _trace(*args, **kwargs):\n",
      "        print 'Entering {0}(args={1}, kwargs={2})'.format(function.__name__, args, kwargs)\n",
      "        return_value = function(*args, **kwargs)\n",
      "        print 'Exiting {0}(args={1}, kwargs={2})'.format(function.__name__, args, kwargs)\n",
      "        return return_value\n",
      "    return _trace\n",
      "\n",
      "def print_stuff(msg):\n",
      "    print msg\n",
      "    \n",
      "def foo(bar):\n",
      "    return 7 * bar\n",
      "    \n",
      "print_stuff = trace(print_stuff)\n",
      "print_stuff('spam, eggs, sausage & spam')\n",
      "\n",
      "trace(foo)(\"eggs\")"
     ],
     "language": "python",
     "metadata": {},
     "outputs": [
      {
       "output_type": "stream",
       "stream": "stdout",
       "text": [
        "Entering print_stuff(args=('spam, eggs, sausage & spam',), kwargs={})\n",
        "spam, eggs, sausage & spam\n",
        "Exiting print_stuff(args=('spam, eggs, sausage & spam',), kwargs={})\n",
        "Entering foo(args=('eggs',), kwargs={})\n",
        "Exiting foo(args=('eggs',), kwargs={})\n"
       ]
      },
      {
       "metadata": {},
       "output_type": "pyout",
       "prompt_number": 222,
       "text": [
        "'eggseggseggseggseggseggseggs'"
       ]
      }
     ],
     "prompt_number": 222
    },
    {
     "cell_type": "markdown",
     "metadata": {},
     "source": [
      "### @decorator"
     ]
    },
    {
     "cell_type": "code",
     "collapsed": false,
     "input": [
      "@trace\n",
      "def print_stuff(msg):\n",
      "    print msg\n",
      "\n",
      "print_stuff('spam, eggs, sausage & spam')\n",
      "import inspect\n",
      "help(inspect.getargspec)"
     ],
     "language": "python",
     "metadata": {},
     "outputs": [
      {
       "output_type": "stream",
       "stream": "stdout",
       "text": [
        "Entering print_stuff(args=('spam, eggs, sausage & spam',), kwargs={})\n",
        "spam, eggs, sausage & spam\n",
        "Exiting print_stuff(args=('spam, eggs, sausage & spam',), kwargs={})\n",
        "Help on function getargspec in module inspect:\n",
        "\n",
        "getargspec(func)\n",
        "    Get the names and default values of a function's arguments.\n",
        "    \n",
        "    A tuple of four things is returned: (args, varargs, varkw, defaults).\n",
        "    'args' is a list of the argument names (it may contain nested lists).\n",
        "    'varargs' and 'varkw' are the names of the * and ** arguments or None.\n",
        "    'defaults' is an n-tuple of the default values of the last n arguments.\n",
        "\n"
       ]
      }
     ],
     "prompt_number": 224
    },
    {
     "cell_type": "markdown",
     "metadata": {},
     "source": [
      "### Dynamic typing, static typing, why not both?\n",
      "![ynotboth](files/ynotboth.gif)\n",
      "\n",
      "(ikke pr\u00f8v dette hjemme)"
     ]
    },
    {
     "cell_type": "code",
     "collapsed": false,
     "input": [
      "import inspect\n",
      "def accepts(**types):\n",
      "    def _wrap_function_arguments(function):\n",
      "        def _accepts(*args, **kwargs):\n",
      "            arg_spec = inspect.getargspec(function)\n",
      "            for argument_name, argument in zip(arg_spec.args, args):\n",
      "                required_type = types[argument_name]\n",
      "                if not isinstance(argument, required_type): \n",
      "                    actual_type = type(argument)\n",
      "                    raise TypeError('Invalid type for {argument_name}={argument} required={required_type}, was={actual_type}'.format(**locals()))\n",
      "            return function(*args, **kwargs)\n",
      "        return _accepts\n",
      "    return _wrap_function_arguments\n",
      "\n",
      "@accepts(msg=str)\n",
      "def print_stuff(msg):\n",
      "    print msg        "
     ],
     "language": "python",
     "metadata": {},
     "outputs": [],
     "prompt_number": 225
    },
    {
     "cell_type": "code",
     "collapsed": false,
     "input": [
      "print_stuff('spam, eggs, sausage & spam')"
     ],
     "language": "python",
     "metadata": {},
     "outputs": [
      {
       "output_type": "stream",
       "stream": "stdout",
       "text": [
        "spam, eggs, sausage & spam\n"
       ]
      }
     ],
     "prompt_number": 226
    },
    {
     "cell_type": "code",
     "collapsed": false,
     "input": [
      "print_stuff(42)"
     ],
     "language": "python",
     "metadata": {},
     "outputs": [
      {
       "ename": "TypeError",
       "evalue": "Invalid type for msg=42 required=<type 'str'>, was=<type 'int'>",
       "output_type": "pyerr",
       "traceback": [
        "\u001b[0;31m---------------------------------------------------------------------------\u001b[0m\n\u001b[0;31mTypeError\u001b[0m                                 Traceback (most recent call last)",
        "\u001b[0;32m<ipython-input-227-50a8be33e5d0>\u001b[0m in \u001b[0;36m<module>\u001b[0;34m()\u001b[0m\n\u001b[0;32m----> 1\u001b[0;31m \u001b[0mprint_stuff\u001b[0m\u001b[0;34m(\u001b[0m\u001b[0;36m42\u001b[0m\u001b[0;34m)\u001b[0m\u001b[0;34m\u001b[0m\u001b[0m\n\u001b[0m",
        "\u001b[0;32m<ipython-input-225-10411887a17b>\u001b[0m in \u001b[0;36m_accepts\u001b[0;34m(*args, **kwargs)\u001b[0m\n\u001b[1;32m      8\u001b[0m                 \u001b[0;32mif\u001b[0m \u001b[0;32mnot\u001b[0m \u001b[0misinstance\u001b[0m\u001b[0;34m(\u001b[0m\u001b[0margument\u001b[0m\u001b[0;34m,\u001b[0m \u001b[0mrequired_type\u001b[0m\u001b[0;34m)\u001b[0m\u001b[0;34m:\u001b[0m\u001b[0;34m\u001b[0m\u001b[0m\n\u001b[1;32m      9\u001b[0m                     \u001b[0mactual_type\u001b[0m \u001b[0;34m=\u001b[0m \u001b[0mtype\u001b[0m\u001b[0;34m(\u001b[0m\u001b[0margument\u001b[0m\u001b[0;34m)\u001b[0m\u001b[0;34m\u001b[0m\u001b[0m\n\u001b[0;32m---> 10\u001b[0;31m                     \u001b[0;32mraise\u001b[0m \u001b[0mTypeError\u001b[0m\u001b[0;34m(\u001b[0m\u001b[0;34m'Invalid type for {argument_name}={argument} required={required_type}, was={actual_type}'\u001b[0m\u001b[0;34m.\u001b[0m\u001b[0mformat\u001b[0m\u001b[0;34m(\u001b[0m\u001b[0;34m**\u001b[0m\u001b[0mlocals\u001b[0m\u001b[0;34m(\u001b[0m\u001b[0;34m)\u001b[0m\u001b[0;34m)\u001b[0m\u001b[0;34m)\u001b[0m\u001b[0;34m\u001b[0m\u001b[0m\n\u001b[0m\u001b[1;32m     11\u001b[0m             \u001b[0;32mreturn\u001b[0m \u001b[0mfunction\u001b[0m\u001b[0;34m(\u001b[0m\u001b[0;34m*\u001b[0m\u001b[0margs\u001b[0m\u001b[0;34m,\u001b[0m \u001b[0;34m**\u001b[0m\u001b[0mkwargs\u001b[0m\u001b[0;34m)\u001b[0m\u001b[0;34m\u001b[0m\u001b[0m\n\u001b[1;32m     12\u001b[0m         \u001b[0;32mreturn\u001b[0m \u001b[0m_accepts\u001b[0m\u001b[0;34m\u001b[0m\u001b[0m\n",
        "\u001b[0;31mTypeError\u001b[0m: Invalid type for msg=42 required=<type 'str'>, was=<type 'int'>"
       ]
      }
     ],
     "prompt_number": 227
    },
    {
     "cell_type": "markdown",
     "metadata": {},
     "source": [
      "### Hvordan kombinere decorators\n",
      "![yo dawg we put a function in your function etc.](files/xzibit.jpg)"
     ]
    },
    {
     "cell_type": "code",
     "collapsed": false,
     "input": [
      "@accepts(msg=str)\n",
      "@trace\n",
      "def print_stuff(msg):\n",
      "    print msg       \n",
      "\n",
      "print_stuff('spam, eggs, sausage & spam') # ok\n",
      "print_stuff(42) # TypeError"
     ],
     "language": "python",
     "metadata": {},
     "outputs": [
      {
       "output_type": "stream",
       "stream": "stdout",
       "text": [
        "Entering print_stuff(args=('spam, eggs, sausage & spam',), kwargs={})\n",
        "spam, eggs, sausage & spam\n",
        "Exiting print_stuff(args=('spam, eggs, sausage & spam',), kwargs={})\n",
        "Entering print_stuff(args=(42,), kwargs={})\n",
        "42\n",
        "Exiting print_stuff(args=(42,), kwargs={})\n"
       ]
      }
     ],
     "prompt_number": 228
    },
    {
     "cell_type": "markdown",
     "metadata": {},
     "source": [
      "### Hei, det der skulle ikke v\u00e6re lov eller?"
     ]
    },
    {
     "cell_type": "code",
     "collapsed": false,
     "input": [
      "def print_stuff(msg):\n",
      "    print msg\n",
      "\n",
      "accepts(msg=str)(trace(print_stuff))(42)"
     ],
     "language": "python",
     "metadata": {},
     "outputs": [
      {
       "output_type": "stream",
       "stream": "stdout",
       "text": [
        "Entering print_stuff(args=(42,), kwargs={})\n",
        "42\n",
        "Exiting print_stuff(args=(42,), kwargs={})\n"
       ]
      }
     ],
     "prompt_number": 229
    },
    {
     "cell_type": "markdown",
     "metadata": {},
     "source": [
      "### Rekkef\u00f8lge betyr noe!"
     ]
    },
    {
     "cell_type": "code",
     "collapsed": false,
     "input": [
      "trace(accepts(msg=str)(print_stuff))(42)"
     ],
     "language": "python",
     "metadata": {},
     "outputs": [
      {
       "ename": "TypeError",
       "evalue": "Invalid type for msg=42 required=<type 'str'>, was=<type 'int'>",
       "output_type": "pyerr",
       "traceback": [
        "\u001b[0;31m---------------------------------------------------------------------------\u001b[0m\n\u001b[0;31mTypeError\u001b[0m                                 Traceback (most recent call last)",
        "\u001b[0;32m<ipython-input-230-837bb8b43365>\u001b[0m in \u001b[0;36m<module>\u001b[0;34m()\u001b[0m\n\u001b[0;32m----> 1\u001b[0;31m \u001b[0mtrace\u001b[0m\u001b[0;34m(\u001b[0m\u001b[0maccepts\u001b[0m\u001b[0;34m(\u001b[0m\u001b[0mmsg\u001b[0m\u001b[0;34m=\u001b[0m\u001b[0mstr\u001b[0m\u001b[0;34m)\u001b[0m\u001b[0;34m(\u001b[0m\u001b[0mprint_stuff\u001b[0m\u001b[0;34m)\u001b[0m\u001b[0;34m)\u001b[0m\u001b[0;34m(\u001b[0m\u001b[0;36m42\u001b[0m\u001b[0;34m)\u001b[0m\u001b[0;34m\u001b[0m\u001b[0m\n\u001b[0m",
        "\u001b[0;32m<ipython-input-222-c5b9b5610cb4>\u001b[0m in \u001b[0;36m_trace\u001b[0;34m(*args, **kwargs)\u001b[0m\n\u001b[1;32m      2\u001b[0m     \u001b[0;32mdef\u001b[0m \u001b[0m_trace\u001b[0m\u001b[0;34m(\u001b[0m\u001b[0;34m*\u001b[0m\u001b[0margs\u001b[0m\u001b[0;34m,\u001b[0m \u001b[0;34m**\u001b[0m\u001b[0mkwargs\u001b[0m\u001b[0;34m)\u001b[0m\u001b[0;34m:\u001b[0m\u001b[0;34m\u001b[0m\u001b[0m\n\u001b[1;32m      3\u001b[0m         \u001b[0;32mprint\u001b[0m \u001b[0;34m'Entering {0}(args={1}, kwargs={2})'\u001b[0m\u001b[0;34m.\u001b[0m\u001b[0mformat\u001b[0m\u001b[0;34m(\u001b[0m\u001b[0mfunction\u001b[0m\u001b[0;34m.\u001b[0m\u001b[0m__name__\u001b[0m\u001b[0;34m,\u001b[0m \u001b[0margs\u001b[0m\u001b[0;34m,\u001b[0m \u001b[0mkwargs\u001b[0m\u001b[0;34m)\u001b[0m\u001b[0;34m\u001b[0m\u001b[0m\n\u001b[0;32m----> 4\u001b[0;31m         \u001b[0mreturn_value\u001b[0m \u001b[0;34m=\u001b[0m \u001b[0mfunction\u001b[0m\u001b[0;34m(\u001b[0m\u001b[0;34m*\u001b[0m\u001b[0margs\u001b[0m\u001b[0;34m,\u001b[0m \u001b[0;34m**\u001b[0m\u001b[0mkwargs\u001b[0m\u001b[0;34m)\u001b[0m\u001b[0;34m\u001b[0m\u001b[0m\n\u001b[0m\u001b[1;32m      5\u001b[0m         \u001b[0;32mprint\u001b[0m \u001b[0;34m'Exiting {0}(args={1}, kwargs={2})'\u001b[0m\u001b[0;34m.\u001b[0m\u001b[0mformat\u001b[0m\u001b[0;34m(\u001b[0m\u001b[0mfunction\u001b[0m\u001b[0;34m.\u001b[0m\u001b[0m__name__\u001b[0m\u001b[0;34m,\u001b[0m \u001b[0margs\u001b[0m\u001b[0;34m,\u001b[0m \u001b[0mkwargs\u001b[0m\u001b[0;34m)\u001b[0m\u001b[0;34m\u001b[0m\u001b[0m\n\u001b[1;32m      6\u001b[0m         \u001b[0;32mreturn\u001b[0m \u001b[0mreturn_value\u001b[0m\u001b[0;34m\u001b[0m\u001b[0m\n",
        "\u001b[0;32m<ipython-input-225-10411887a17b>\u001b[0m in \u001b[0;36m_accepts\u001b[0;34m(*args, **kwargs)\u001b[0m\n\u001b[1;32m      8\u001b[0m                 \u001b[0;32mif\u001b[0m \u001b[0;32mnot\u001b[0m \u001b[0misinstance\u001b[0m\u001b[0;34m(\u001b[0m\u001b[0margument\u001b[0m\u001b[0;34m,\u001b[0m \u001b[0mrequired_type\u001b[0m\u001b[0;34m)\u001b[0m\u001b[0;34m:\u001b[0m\u001b[0;34m\u001b[0m\u001b[0m\n\u001b[1;32m      9\u001b[0m                     \u001b[0mactual_type\u001b[0m \u001b[0;34m=\u001b[0m \u001b[0mtype\u001b[0m\u001b[0;34m(\u001b[0m\u001b[0margument\u001b[0m\u001b[0;34m)\u001b[0m\u001b[0;34m\u001b[0m\u001b[0m\n\u001b[0;32m---> 10\u001b[0;31m                     \u001b[0;32mraise\u001b[0m \u001b[0mTypeError\u001b[0m\u001b[0;34m(\u001b[0m\u001b[0;34m'Invalid type for {argument_name}={argument} required={required_type}, was={actual_type}'\u001b[0m\u001b[0;34m.\u001b[0m\u001b[0mformat\u001b[0m\u001b[0;34m(\u001b[0m\u001b[0;34m**\u001b[0m\u001b[0mlocals\u001b[0m\u001b[0;34m(\u001b[0m\u001b[0;34m)\u001b[0m\u001b[0;34m)\u001b[0m\u001b[0;34m)\u001b[0m\u001b[0;34m\u001b[0m\u001b[0m\n\u001b[0m\u001b[1;32m     11\u001b[0m             \u001b[0;32mreturn\u001b[0m \u001b[0mfunction\u001b[0m\u001b[0;34m(\u001b[0m\u001b[0;34m*\u001b[0m\u001b[0margs\u001b[0m\u001b[0;34m,\u001b[0m \u001b[0;34m**\u001b[0m\u001b[0mkwargs\u001b[0m\u001b[0;34m)\u001b[0m\u001b[0;34m\u001b[0m\u001b[0m\n\u001b[1;32m     12\u001b[0m         \u001b[0;32mreturn\u001b[0m \u001b[0m_accepts\u001b[0m\u001b[0;34m\u001b[0m\u001b[0m\n",
        "\u001b[0;31mTypeError\u001b[0m: Invalid type for msg=42 required=<type 'str'>, was=<type 'int'>"
       ]
      },
      {
       "output_type": "stream",
       "stream": "stdout",
       "text": [
        "Entering _accepts(args=(42,), kwargs={})\n"
       ]
      }
     ],
     "prompt_number": 230
    },
    {
     "cell_type": "code",
     "collapsed": false,
     "input": [
      "@trace\n",
      "@accepts(msg=str)\n",
      "def print_stuff(msg):\n",
      "    print msg       \n",
      "\n",
      "print_stuff(42)"
     ],
     "language": "python",
     "metadata": {},
     "outputs": [
      {
       "ename": "TypeError",
       "evalue": "Invalid type for msg=42 required=<type 'str'>, was=<type 'int'>",
       "output_type": "pyerr",
       "traceback": [
        "\u001b[0;31m---------------------------------------------------------------------------\u001b[0m\n\u001b[0;31mTypeError\u001b[0m                                 Traceback (most recent call last)",
        "\u001b[0;32m<ipython-input-231-08c4309f0fee>\u001b[0m in \u001b[0;36m<module>\u001b[0;34m()\u001b[0m\n\u001b[1;32m      4\u001b[0m     \u001b[0;32mprint\u001b[0m \u001b[0mmsg\u001b[0m\u001b[0;34m\u001b[0m\u001b[0m\n\u001b[1;32m      5\u001b[0m \u001b[0;34m\u001b[0m\u001b[0m\n\u001b[0;32m----> 6\u001b[0;31m \u001b[0mprint_stuff\u001b[0m\u001b[0;34m(\u001b[0m\u001b[0;36m42\u001b[0m\u001b[0;34m)\u001b[0m\u001b[0;34m\u001b[0m\u001b[0m\n\u001b[0m",
        "\u001b[0;32m<ipython-input-222-c5b9b5610cb4>\u001b[0m in \u001b[0;36m_trace\u001b[0;34m(*args, **kwargs)\u001b[0m\n\u001b[1;32m      2\u001b[0m     \u001b[0;32mdef\u001b[0m \u001b[0m_trace\u001b[0m\u001b[0;34m(\u001b[0m\u001b[0;34m*\u001b[0m\u001b[0margs\u001b[0m\u001b[0;34m,\u001b[0m \u001b[0;34m**\u001b[0m\u001b[0mkwargs\u001b[0m\u001b[0;34m)\u001b[0m\u001b[0;34m:\u001b[0m\u001b[0;34m\u001b[0m\u001b[0m\n\u001b[1;32m      3\u001b[0m         \u001b[0;32mprint\u001b[0m \u001b[0;34m'Entering {0}(args={1}, kwargs={2})'\u001b[0m\u001b[0;34m.\u001b[0m\u001b[0mformat\u001b[0m\u001b[0;34m(\u001b[0m\u001b[0mfunction\u001b[0m\u001b[0;34m.\u001b[0m\u001b[0m__name__\u001b[0m\u001b[0;34m,\u001b[0m \u001b[0margs\u001b[0m\u001b[0;34m,\u001b[0m \u001b[0mkwargs\u001b[0m\u001b[0;34m)\u001b[0m\u001b[0;34m\u001b[0m\u001b[0m\n\u001b[0;32m----> 4\u001b[0;31m         \u001b[0mreturn_value\u001b[0m \u001b[0;34m=\u001b[0m \u001b[0mfunction\u001b[0m\u001b[0;34m(\u001b[0m\u001b[0;34m*\u001b[0m\u001b[0margs\u001b[0m\u001b[0;34m,\u001b[0m \u001b[0;34m**\u001b[0m\u001b[0mkwargs\u001b[0m\u001b[0;34m)\u001b[0m\u001b[0;34m\u001b[0m\u001b[0m\n\u001b[0m\u001b[1;32m      5\u001b[0m         \u001b[0;32mprint\u001b[0m \u001b[0;34m'Exiting {0}(args={1}, kwargs={2})'\u001b[0m\u001b[0;34m.\u001b[0m\u001b[0mformat\u001b[0m\u001b[0;34m(\u001b[0m\u001b[0mfunction\u001b[0m\u001b[0;34m.\u001b[0m\u001b[0m__name__\u001b[0m\u001b[0;34m,\u001b[0m \u001b[0margs\u001b[0m\u001b[0;34m,\u001b[0m \u001b[0mkwargs\u001b[0m\u001b[0;34m)\u001b[0m\u001b[0;34m\u001b[0m\u001b[0m\n\u001b[1;32m      6\u001b[0m         \u001b[0;32mreturn\u001b[0m \u001b[0mreturn_value\u001b[0m\u001b[0;34m\u001b[0m\u001b[0m\n",
        "\u001b[0;32m<ipython-input-225-10411887a17b>\u001b[0m in \u001b[0;36m_accepts\u001b[0;34m(*args, **kwargs)\u001b[0m\n\u001b[1;32m      8\u001b[0m                 \u001b[0;32mif\u001b[0m \u001b[0;32mnot\u001b[0m \u001b[0misinstance\u001b[0m\u001b[0;34m(\u001b[0m\u001b[0margument\u001b[0m\u001b[0;34m,\u001b[0m \u001b[0mrequired_type\u001b[0m\u001b[0;34m)\u001b[0m\u001b[0;34m:\u001b[0m\u001b[0;34m\u001b[0m\u001b[0m\n\u001b[1;32m      9\u001b[0m                     \u001b[0mactual_type\u001b[0m \u001b[0;34m=\u001b[0m \u001b[0mtype\u001b[0m\u001b[0;34m(\u001b[0m\u001b[0margument\u001b[0m\u001b[0;34m)\u001b[0m\u001b[0;34m\u001b[0m\u001b[0m\n\u001b[0;32m---> 10\u001b[0;31m                     \u001b[0;32mraise\u001b[0m \u001b[0mTypeError\u001b[0m\u001b[0;34m(\u001b[0m\u001b[0;34m'Invalid type for {argument_name}={argument} required={required_type}, was={actual_type}'\u001b[0m\u001b[0;34m.\u001b[0m\u001b[0mformat\u001b[0m\u001b[0;34m(\u001b[0m\u001b[0;34m**\u001b[0m\u001b[0mlocals\u001b[0m\u001b[0;34m(\u001b[0m\u001b[0;34m)\u001b[0m\u001b[0;34m)\u001b[0m\u001b[0;34m)\u001b[0m\u001b[0;34m\u001b[0m\u001b[0m\n\u001b[0m\u001b[1;32m     11\u001b[0m             \u001b[0;32mreturn\u001b[0m \u001b[0mfunction\u001b[0m\u001b[0;34m(\u001b[0m\u001b[0;34m*\u001b[0m\u001b[0margs\u001b[0m\u001b[0;34m,\u001b[0m \u001b[0;34m**\u001b[0m\u001b[0mkwargs\u001b[0m\u001b[0;34m)\u001b[0m\u001b[0;34m\u001b[0m\u001b[0m\n\u001b[1;32m     12\u001b[0m         \u001b[0;32mreturn\u001b[0m \u001b[0m_accepts\u001b[0m\u001b[0;34m\u001b[0m\u001b[0m\n",
        "\u001b[0;31mTypeError\u001b[0m: Invalid type for msg=42 required=<type 'str'>, was=<type 'int'>"
       ]
      },
      {
       "output_type": "stream",
       "stream": "stdout",
       "text": [
        "Entering _accepts(args=(42,), kwargs={})\n"
       ]
      }
     ],
     "prompt_number": 231
    },
    {
     "cell_type": "code",
     "collapsed": false,
     "input": [
      "@trace\n",
      "@accepts(msg=str)\n",
      "def print_stuff(msg):\n",
      "    \"\"\"\n",
      "    prints stuff\n",
      "    \n",
      "    Arguments:\n",
      "    - msg: stuff to print\n",
      "    \"\"\"\n",
      "    print msg\n",
      "\n",
      "\n",
      "help(print_stuff)\n",
      "print print_stuff.__name__"
     ],
     "language": "python",
     "metadata": {},
     "outputs": [
      {
       "output_type": "stream",
       "stream": "stdout",
       "text": [
        "Help on function _trace in module __main__:\n",
        "\n",
        "_trace(*args, **kwargs)\n",
        "\n",
        "_trace\n"
       ]
      }
     ],
     "prompt_number": 232
    },
    {
     "cell_type": "code",
     "collapsed": false,
     "input": [
      "print trace(accepts(msg=str)(print_stuff)).__doc__"
     ],
     "language": "python",
     "metadata": {},
     "outputs": [
      {
       "output_type": "stream",
       "stream": "stdout",
       "text": [
        "None\n"
       ]
      }
     ],
     "prompt_number": 233
    },
    {
     "cell_type": "code",
     "collapsed": true,
     "input": [
      "from functools import wraps\n",
      "\n",
      "def trace(function):\n",
      "    @wraps(function)\n",
      "    def _trace(*args, **kwargs):\n",
      "        print 'Entering {0}(args={1}, kwargs={2})'.format(function.__name__, args, kwargs)\n",
      "        return_value = function(*args, **kwargs)\n",
      "        print 'Exiting {0}(args={1}, kwargs={2})'.format(function.__name__, args, kwargs)\n",
      "        return return_value\n",
      "    return _trace\n",
      "\n",
      "@trace\n",
      "def print_stuff(msg):\n",
      "    \"\"\"\n",
      "    prints stuff\n",
      "    \n",
      "    Arguments:\n",
      "    - msg: stuff to print\n",
      "    \"\"\"\n",
      "    print msg\n",
      "\n",
      "help(print_stuff)\n",
      "print print_stuff.__name__"
     ],
     "language": "python",
     "metadata": {},
     "outputs": [
      {
       "output_type": "stream",
       "stream": "stdout",
       "text": [
        "Help on function print_stuff in module __main__:\n",
        "\n",
        "print_stuff(*args, **kwargs)\n",
        "    prints stuff\n",
        "    \n",
        "    Arguments:\n",
        "    - msg: stuff to print\n",
        "\n",
        "print_stuff\n"
       ]
      }
     ],
     "prompt_number": 234
    },
    {
     "cell_type": "markdown",
     "metadata": {},
     "source": [
      "### Memoisering"
     ]
    },
    {
     "cell_type": "code",
     "collapsed": false,
     "input": [
      "def memoized(function):\n",
      "    cache = {}\n",
      "    @wraps(function)\n",
      "    def memoized_function(*args, **kwargs):\n",
      "        params = (args, tuple(kwargs.items()))\n",
      "        if params not in cache:\n",
      "            cache[params] = function(*args, **kwargs)\n",
      "        return cache[params]\n",
      "    return memoized_function\n",
      "\n",
      "@memoized\n",
      "def fibonacci(n):\n",
      "    if n == 0:\n",
      "        return 0\n",
      "    elif n == 1:\n",
      "        return 1\n",
      "    else:\n",
      "        return fibonacci(n - 1) + fibonacci(n - 2)\n",
      "\n",
      "import timeit\n",
      "print timeit.timeit('fibonacci(20)', number=1000, setup=\"from __main__ import fibonacci\")"
     ],
     "language": "python",
     "metadata": {},
     "outputs": [
      {
       "output_type": "stream",
       "stream": "stdout",
       "text": [
        "0.000799894332886\n"
       ]
      }
     ],
     "prompt_number": 235
    },
    {
     "cell_type": "code",
     "collapsed": false,
     "input": [
      "def fibonacci(n):\n",
      "    if n == 0:\n",
      "        return 0\n",
      "    elif n == 1:\n",
      "        return 1\n",
      "    else:\n",
      "        return fibonacci(n - 1) + fibonacci(n - 2)\n",
      "    \n",
      "print timeit.timeit('fibonacci(20)', number=1000, setup=\"from __main__ import fibonacci\")"
     ],
     "language": "python",
     "metadata": {},
     "outputs": [
      {
       "output_type": "stream",
       "stream": "stdout",
       "text": [
        "4.48133397102\n"
       ]
      }
     ],
     "prompt_number": 236
    },
    {
     "cell_type": "markdown",
     "metadata": {},
     "source": [
      "### Dumb constructor"
     ]
    },
    {
     "cell_type": "code",
     "collapsed": false,
     "input": [
      "def dumb_constructor(init_method):\n",
      "    names, _, _, defaults = inspect.getargspec(init_method)\n",
      "    @wraps(init_method)\n",
      "    def wrapper(self, *args, **kwargs):\n",
      "        for name, arg in zip(names[1:], args) + kwargs.items():\n",
      "            setattr(self, name, arg)\n",
      "        if defaults is not None:\n",
      "            for i in range(len(defaults)):\n",
      "                if not hasattr(self, names[-(i+1)]):\n",
      "                    setattr(self, names[-(i+1)], defaults[i])\n",
      "        init_method(self, *args, **kwargs)\n",
      "    return wrapper\n",
      "\n",
      "class Menu(object):\n",
      "    @dumb_constructor\n",
      "    def __init__(self, breakfast, lunch, dinner=\"Gratinert l\u00f8ksuppe\"):        \n",
      "        courses = [breakfast, lunch, dinner]\n",
      "        if not all(['spam' in course for course in courses]):\n",
      "            raise ValueError('All courses must include spam')\n",
      "                   \n",
      "    def __str__(self):\n",
      "        return 'Menu(breakfast={breakfast}, lunch={lunch}, dinner={dinner})'.format(**self.__dict__)\n",
      "\n",
      "print Menu('spam & eggs', 'spam, eggs, sausage & spam', 'spam, sausage, spam & eggs w/spam side')"
     ],
     "language": "python",
     "metadata": {},
     "outputs": [
      {
       "output_type": "stream",
       "stream": "stdout",
       "text": [
        "Menu(breakfast=spam & eggs, lunch=spam, eggs, sausage & spam, dinner=spam, sausage, spam & eggs w/spam side)\n"
       ]
      }
     ],
     "prompt_number": 237
    },
    {
     "cell_type": "code",
     "collapsed": false,
     "input": [
      "print Menu('turnip', 'turnip', 'turnip')"
     ],
     "language": "python",
     "metadata": {},
     "outputs": [
      {
       "ename": "ValueError",
       "evalue": "All courses must include spam",
       "output_type": "pyerr",
       "traceback": [
        "\u001b[0;31m---------------------------------------------------------------------------\u001b[0m\n\u001b[0;31mValueError\u001b[0m                                Traceback (most recent call last)",
        "\u001b[0;32m<ipython-input-238-763b19218815>\u001b[0m in \u001b[0;36m<module>\u001b[0;34m()\u001b[0m\n\u001b[0;32m----> 1\u001b[0;31m \u001b[0;32mprint\u001b[0m \u001b[0mMenu\u001b[0m\u001b[0;34m(\u001b[0m\u001b[0;34m'turnip'\u001b[0m\u001b[0;34m,\u001b[0m \u001b[0;34m'turnip'\u001b[0m\u001b[0;34m,\u001b[0m \u001b[0;34m'turnip'\u001b[0m\u001b[0;34m)\u001b[0m\u001b[0;34m\u001b[0m\u001b[0m\n\u001b[0m",
        "\u001b[0;32m<ipython-input-237-3f3f3030ad6c>\u001b[0m in \u001b[0;36mwrapper\u001b[0;34m(self, *args, **kwargs)\u001b[0m\n\u001b[1;32m      9\u001b[0m                 \u001b[0;32mif\u001b[0m \u001b[0;32mnot\u001b[0m \u001b[0mhasattr\u001b[0m\u001b[0;34m(\u001b[0m\u001b[0mself\u001b[0m\u001b[0;34m,\u001b[0m \u001b[0mnames\u001b[0m\u001b[0;34m[\u001b[0m\u001b[0;34m-\u001b[0m\u001b[0;34m(\u001b[0m\u001b[0mi\u001b[0m\u001b[0;34m+\u001b[0m\u001b[0;36m1\u001b[0m\u001b[0;34m)\u001b[0m\u001b[0;34m]\u001b[0m\u001b[0;34m)\u001b[0m\u001b[0;34m:\u001b[0m\u001b[0;34m\u001b[0m\u001b[0m\n\u001b[1;32m     10\u001b[0m                     \u001b[0msetattr\u001b[0m\u001b[0;34m(\u001b[0m\u001b[0mself\u001b[0m\u001b[0;34m,\u001b[0m \u001b[0mnames\u001b[0m\u001b[0;34m[\u001b[0m\u001b[0;34m-\u001b[0m\u001b[0;34m(\u001b[0m\u001b[0mi\u001b[0m\u001b[0;34m+\u001b[0m\u001b[0;36m1\u001b[0m\u001b[0;34m)\u001b[0m\u001b[0;34m]\u001b[0m\u001b[0;34m,\u001b[0m \u001b[0mdefaults\u001b[0m\u001b[0;34m[\u001b[0m\u001b[0mi\u001b[0m\u001b[0;34m]\u001b[0m\u001b[0;34m)\u001b[0m\u001b[0;34m\u001b[0m\u001b[0m\n\u001b[0;32m---> 11\u001b[0;31m         \u001b[0minit_method\u001b[0m\u001b[0;34m(\u001b[0m\u001b[0mself\u001b[0m\u001b[0;34m,\u001b[0m \u001b[0;34m*\u001b[0m\u001b[0margs\u001b[0m\u001b[0;34m,\u001b[0m \u001b[0;34m**\u001b[0m\u001b[0mkwargs\u001b[0m\u001b[0;34m)\u001b[0m\u001b[0;34m\u001b[0m\u001b[0m\n\u001b[0m\u001b[1;32m     12\u001b[0m     \u001b[0;32mreturn\u001b[0m \u001b[0mwrapper\u001b[0m\u001b[0;34m\u001b[0m\u001b[0m\n\u001b[1;32m     13\u001b[0m \u001b[0;34m\u001b[0m\u001b[0m\n",
        "\u001b[0;32m<ipython-input-237-3f3f3030ad6c>\u001b[0m in \u001b[0;36m__init__\u001b[0;34m(self, breakfast, lunch, dinner)\u001b[0m\n\u001b[1;32m     17\u001b[0m         \u001b[0mcourses\u001b[0m \u001b[0;34m=\u001b[0m \u001b[0;34m[\u001b[0m\u001b[0mbreakfast\u001b[0m\u001b[0;34m,\u001b[0m \u001b[0mlunch\u001b[0m\u001b[0;34m,\u001b[0m \u001b[0mdinner\u001b[0m\u001b[0;34m]\u001b[0m\u001b[0;34m\u001b[0m\u001b[0m\n\u001b[1;32m     18\u001b[0m         \u001b[0;32mif\u001b[0m \u001b[0;32mnot\u001b[0m \u001b[0mall\u001b[0m\u001b[0;34m(\u001b[0m\u001b[0;34m[\u001b[0m\u001b[0;34m'spam'\u001b[0m \u001b[0;32min\u001b[0m \u001b[0mcourse\u001b[0m \u001b[0;32mfor\u001b[0m \u001b[0mcourse\u001b[0m \u001b[0;32min\u001b[0m \u001b[0mcourses\u001b[0m\u001b[0;34m]\u001b[0m\u001b[0;34m)\u001b[0m\u001b[0;34m:\u001b[0m\u001b[0;34m\u001b[0m\u001b[0m\n\u001b[0;32m---> 19\u001b[0;31m             \u001b[0;32mraise\u001b[0m \u001b[0mValueError\u001b[0m\u001b[0;34m(\u001b[0m\u001b[0;34m'All courses must include spam'\u001b[0m\u001b[0;34m)\u001b[0m\u001b[0;34m\u001b[0m\u001b[0m\n\u001b[0m\u001b[1;32m     20\u001b[0m \u001b[0;34m\u001b[0m\u001b[0m\n\u001b[1;32m     21\u001b[0m     \u001b[0;32mdef\u001b[0m \u001b[0m__str__\u001b[0m\u001b[0;34m(\u001b[0m\u001b[0mself\u001b[0m\u001b[0;34m)\u001b[0m\u001b[0;34m:\u001b[0m\u001b[0;34m\u001b[0m\u001b[0m\n",
        "\u001b[0;31mValueError\u001b[0m: All courses must include spam"
       ]
      }
     ],
     "prompt_number": 238
    },
    {
     "cell_type": "code",
     "collapsed": false,
     "input": [
      "## broken @decorator decorator\n",
      "def decorator(decorator_function):\n",
      "    @wraps(decorator_function)\n",
      "    def _decorator(*args, **kwargs):\n",
      "        decorated_function, decorated_function_args = args[0], args[1:]\n",
      "        print 'decorated_function_args=' + str(args)\n",
      "        return decorator_function(decorated_function, *decorated_function_args, **kwargs)\n",
      "    return _decorator\n",
      "\n",
      "\n",
      "@decorator\n",
      "def trace(function, *args, **kwargs):\n",
      "    print 'Entering {0}(args={1}, kwargs={2})'.format(function.__name__, args, kwargs)\n",
      "    print 'trace args=' + str(args)\n",
      "    return_value = function(*args, **kwargs)\n",
      "    print 'Exiting {0}(args={1}, kwargs={2})'.format(function.__name__, args, kwargs)\n",
      "    return return_value\n",
      "\n",
      "#trace(lambda x: x * 2, 7)\n",
      "\n",
      "#@trace\n",
      "def print_stuff(msg):\n",
      "    print msg\n",
      "\n",
      "trace(print_stuff)('msg')"
     ],
     "language": "python",
     "metadata": {},
     "outputs": []
    },
    {
     "cell_type": "markdown",
     "metadata": {},
     "source": [
      "### Klasser kan v\u00e6re decorators"
     ]
    },
    {
     "cell_type": "code",
     "collapsed": false,
     "input": [
      "class Trace(object):\n",
      "    def __init__(self, function):\n",
      "        self.function = function\n",
      "    \n",
      "    def __call__(self, *args, **kwargs):\n",
      "        print \"Entering {}, args={}, kwargs={}\".format(self.function.__name__, args, kwargs)\n",
      "        retval = self.function(*args, **kwargs)\n",
      "        print \"Exiting {}, args={}, kwargs={}\".format(self.function.__name__, args, kwargs)\n",
      "        print \"Returning {}\".format(retval)\n",
      "        return retval\n",
      "\n",
      "@Trace\n",
      "def asdf(msg):\n",
      "    print 'asdf' + msg\n",
      "\n",
      "asdf('aoeu')\n",
      "        "
     ],
     "language": "python",
     "metadata": {},
     "outputs": [
      {
       "output_type": "stream",
       "stream": "stdout",
       "text": [
        "Entering asdf, args=('aoeu',), kwargs={}\n",
        "asdfaoeu\n",
        "Exiting asdf, args=('aoeu',), kwargs={}\n",
        "Returning None\n"
       ]
      }
     ],
     "prompt_number": 239
    },
    {
     "cell_type": "code",
     "collapsed": false,
     "input": [
      "@Trace\n",
      "class Foo(object):\n",
      "    def __init__(self, bar):\n",
      "        print \"init\"\n",
      "    \n",
      "    def fasdf(self):\n",
      "        print \"fasdf\"\n",
      "\n",
      "foo = Foo(\"stuff\")\n",
      "foo.fasdf()"
     ],
     "language": "python",
     "metadata": {},
     "outputs": [
      {
       "output_type": "stream",
       "stream": "stdout",
       "text": [
        "Entering Foo, args=('stuff',), kwargs={}\n",
        "init\n",
        "Exiting Foo, args=('stuff',), kwargs={}\n",
        "Returning <__main__.Foo object at 0x1042b2b50>\n",
        "fasdf\n"
       ]
      }
     ],
     "prompt_number": 246
    },
    {
     "cell_type": "markdown",
     "metadata": {},
     "source": [
      "### Mutable default arguments: v\u00e6r forsiktig"
     ]
    },
    {
     "cell_type": "code",
     "collapsed": false,
     "input": [
      "def thing(l=[]): ## it's a trap\n",
      "    l.append(1)\n",
      "    print l\n",
      "\n",
      "thing()\n",
      "thing()\n",
      "thing()\n",
      "thing()"
     ],
     "language": "python",
     "metadata": {},
     "outputs": [
      {
       "output_type": "stream",
       "stream": "stdout",
       "text": [
        "[1]\n",
        "[1, 1]\n",
        "[1, 1, 1]\n",
        "[1, 1, 1, 1]\n"
       ]
      }
     ],
     "prompt_number": 248
    },
    {
     "cell_type": "code",
     "collapsed": false,
     "input": [
      "def thing(l=None): ## it's ok :)\n",
      "    l = [] if l is None else l\n",
      "    l.append(1)\n",
      "    print l\n",
      "\n",
      "thing()\n",
      "thing()\n",
      "thing()\n",
      "thing()"
     ],
     "language": "python",
     "metadata": {},
     "outputs": [
      {
       "output_type": "stream",
       "stream": "stdout",
       "text": [
        "[1]\n",
        "[1]\n",
        "[1]\n",
        "[1]\n"
       ]
      }
     ],
     "prompt_number": 249
    }
   ],
   "metadata": {}
  }
 ]
}
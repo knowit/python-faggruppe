{
 "metadata": {
  "name": "Iterator Protocol"
 },
 "nbformat": 3,
 "nbformat_minor": 0,
 "worksheets": [
  {
   "cells": [
    {
     "cell_type": "heading",
     "level": 1,
     "metadata": {},
     "source": [
      "Iterator Protocol: Iterables, Iterators, Generators"
     ]
    },
    {
     "cell_type": "markdown",
     "metadata": {},
     "source": [
      "En __iterable__ er en type du kan iterere over.\n",
      "Dette brukes i h\u00f8y grad i python kode, for eksempel i for-in loopen:"
     ]
    },
    {
     "cell_type": "code",
     "collapsed": false,
     "input": [
      "l = [1,3,6,2]\n",
      "print l"
     ],
     "language": "python",
     "metadata": {},
     "outputs": [
      {
       "output_type": "stream",
       "stream": "stdout",
       "text": [
        "[1, 3, 6, 2]\n"
       ]
      }
     ],
     "prompt_number": 1
    },
    {
     "cell_type": "code",
     "collapsed": false,
     "input": [
      "i = 0\n",
      "while i < len(l):\n",
      "    print l[i]\n",
      "    i += 1"
     ],
     "language": "python",
     "metadata": {},
     "outputs": [
      {
       "output_type": "stream",
       "stream": "stdout",
       "text": [
        "1\n",
        "3\n",
        "6\n",
        "2\n"
       ]
      }
     ],
     "prompt_number": 2
    },
    {
     "cell_type": "code",
     "collapsed": false,
     "input": [
      "def printall(iterable):\n",
      "    for element in iterable:\n",
      "        print element\n",
      "printall(l)"
     ],
     "language": "python",
     "metadata": {},
     "outputs": [
      {
       "output_type": "stream",
       "stream": "stdout",
       "text": [
        "1\n",
        "3\n",
        "6\n",
        "2\n"
       ]
      }
     ],
     "prompt_number": 3
    },
    {
     "cell_type": "markdown",
     "metadata": {},
     "source": [
      "Eksempler p\u00e5 typer som er _iterable_ inkluderer:\n",
      "\n",
      "* list\n",
      "* string\n",
      "* dict (over n\u00f8klene)\n",
      "* set\n",
      "* tuple\n",
      "* file (over linjene)"
     ]
    },
    {
     "cell_type": "code",
     "collapsed": false,
     "input": [
      "str = \"Hello World!\"\n",
      "print str\n",
      "printall(str)\n",
      "\n",
      "d = {'language':\"Python\", 'status':\"Awesome\"}\n",
      "print d\n",
      "printall(d)\n",
      "\n",
      "s = set([1,2,3,2,1])\n",
      "print s\n",
      "printall(s)\n",
      "\n",
      "t = 5, 9, 11\n",
      "print t\n",
      "printall(t)"
     ],
     "language": "python",
     "metadata": {},
     "outputs": [
      {
       "output_type": "stream",
       "stream": "stdout",
       "text": [
        "Hello World!\n",
        "H\n",
        "e\n",
        "l\n",
        "l\n",
        "o\n",
        " \n",
        "W\n",
        "o\n",
        "r\n",
        "l\n",
        "d\n",
        "!\n",
        "{'status': 'Awesome', 'language': 'Python'}\n",
        "status\n",
        "language\n",
        "set([1, 2, 3])\n",
        "1\n",
        "2\n",
        "3\n",
        "(5, 9, 11)\n",
        "5\n",
        "9\n",
        "11\n"
       ]
      }
     ],
     "prompt_number": 4
    },
    {
     "cell_type": "markdown",
     "metadata": {},
     "source": [
      "Andre eksempler p\u00e5 der _iterables_ er brukt:\n",
      "\n",
      "* list(iterable)\n",
      "* list.extend(iterable)\n",
      "* string.join(iterable)"
     ]
    },
    {
     "cell_type": "code",
     "collapsed": false,
     "input": [
      "l_s = list(iter(s))\n",
      "print l_s\n",
      "l_s.extend(t)\n",
      "print l_s\n",
      "print \" \".join(str)"
     ],
     "language": "python",
     "metadata": {},
     "outputs": [
      {
       "output_type": "stream",
       "stream": "stdout",
       "text": [
        "[1, 2, 3]\n",
        "[1, 2, 3, 5, 9, 11]\n",
        "H e l l o   W o r l d !\n"
       ]
      }
     ],
     "prompt_number": 5
    },
    {
     "cell_type": "markdown",
     "metadata": {},
     "source": [
      "Definisjonen p\u00e5 en __iterable__ er at den har en member funksjon __iterable.\\__iter\\__()__ som returnerer en _iterator_. Det er denne member funksjonen som kalles n\u00e5r man kaller __iter(iterable)__."
     ]
    },
    {
     "cell_type": "code",
     "collapsed": false,
     "input": [
      "it_method = getattr(l, '__iter__')\n",
      "print it_method\n",
      "print it_method.__doc__\n",
      "print l.__iter__()\n",
      "print iter(l)"
     ],
     "language": "python",
     "metadata": {},
     "outputs": [
      {
       "output_type": "stream",
       "stream": "stdout",
       "text": [
        "<method-wrapper '__iter__' of list object at 0x29a1488>\n",
        "x.__iter__() <==> iter(x)\n",
        "<listiterator object at 0x29aa0d0>\n",
        "<listiterator object at 0x29aa150>\n"
       ]
      }
     ],
     "prompt_number": 6
    },
    {
     "cell_type": "markdown",
     "metadata": {},
     "source": [
      "Forskjellige _iterables_ har forskjellige tilsvarende _iterators_"
     ]
    },
    {
     "cell_type": "code",
     "collapsed": false,
     "input": [
      "print iter(s)\n",
      "print iter(str)\n",
      "print iter(d)\n",
      "print iter(t)"
     ],
     "language": "python",
     "metadata": {},
     "outputs": [
      {
       "output_type": "stream",
       "stream": "stdout",
       "text": [
        "<setiterator object at 0x29a4e10>\n",
        "<iterator object at 0x29aa050>\n",
        "<dictionary-keyiterator object at 0x29a6578>\n",
        "<tupleiterator object at 0x29aa050>\n"
       ]
      }
     ],
     "prompt_number": 7
    },
    {
     "cell_type": "markdown",
     "metadata": {},
     "source": [
      "En _iterator_ er ogs\u00e5 en _iterable_.\n",
      "Hvis man kaller iter(iterator) s\u00e5 returneres samme iterator var argumentet av funksjonen."
     ]
    },
    {
     "cell_type": "code",
     "collapsed": false,
     "input": [
      "l2 = list(l)\n",
      "l2.append(' ')\n",
      "printall(l2)\n",
      "printall(iter(l2))\n",
      "printall(iter(iter(l2)))\n",
      "printall(iter(iter(iter(l2))))\n",
      "l2_it = iter(l2)\n",
      "print l2_it == iter(l2_it)"
     ],
     "language": "python",
     "metadata": {},
     "outputs": [
      {
       "output_type": "stream",
       "stream": "stdout",
       "text": [
        "1\n",
        "3\n",
        "6\n",
        "2\n",
        " \n",
        "1\n",
        "3\n",
        "6\n",
        "2\n",
        " \n",
        "1\n",
        "3\n",
        "6\n",
        "2\n",
        " \n",
        "1\n",
        "3\n",
        "6\n",
        "2\n",
        " \n",
        "True\n"
       ]
      }
     ],
     "prompt_number": 8
    },
    {
     "cell_type": "markdown",
     "metadata": {},
     "source": [
      "En __iterator__ er en type som har en referanse til \u00e9n spesifikk _iterable_, og en intern _posisjon-state_ p\u00e5 hvor langt gjennom denne iterablen den har iterert.\n",
      "\n",
      "Definisjonen p\u00e5 en iterator er en type som har en __next()__ metode, som ved suksessive kall returnerer suksessive verdier fra iterablen, og som raiser et __StopIteration__ exception n\u00e5r alle elementer er iterert over."
     ]
    },
    {
     "cell_type": "code",
     "collapsed": false,
     "input": [
      "next_method = getattr(iter(l),'next')\n",
      "print next_method\n",
      "print next_method.__doc__"
     ],
     "language": "python",
     "metadata": {},
     "outputs": [
      {
       "output_type": "stream",
       "stream": "stdout",
       "text": [
        "<method-wrapper 'next' of listiterator object at 0x29aa0d0>\n",
        "x.next() -> the next value, or raise StopIteration\n"
       ]
      }
     ],
     "prompt_number": 9
    },
    {
     "cell_type": "code",
     "collapsed": false,
     "input": [
      "print l\n",
      "l_it = iter(l)\n",
      "print l_it.next()\n",
      "print l_it.next()\n",
      "print l_it.next()\n",
      "print l_it.next()\n",
      "print l_it.next()"
     ],
     "language": "python",
     "metadata": {},
     "outputs": [
      {
       "ename": "StopIteration",
       "evalue": "",
       "output_type": "pyerr",
       "traceback": [
        "\u001b[0;31m---------------------------------------------------------------------------\u001b[0m\n\u001b[0;31mStopIteration\u001b[0m                             Traceback (most recent call last)",
        "\u001b[0;32m<ipython-input-10-dece5b7f455c>\u001b[0m in \u001b[0;36m<module>\u001b[0;34m()\u001b[0m\n\u001b[1;32m      5\u001b[0m \u001b[0;32mprint\u001b[0m \u001b[0ml_it\u001b[0m\u001b[0;34m.\u001b[0m\u001b[0mnext\u001b[0m\u001b[0;34m(\u001b[0m\u001b[0;34m)\u001b[0m\u001b[0;34m\u001b[0m\u001b[0m\n\u001b[1;32m      6\u001b[0m \u001b[0;32mprint\u001b[0m \u001b[0ml_it\u001b[0m\u001b[0;34m.\u001b[0m\u001b[0mnext\u001b[0m\u001b[0;34m(\u001b[0m\u001b[0;34m)\u001b[0m\u001b[0;34m\u001b[0m\u001b[0m\n\u001b[0;32m----> 7\u001b[0;31m \u001b[0;32mprint\u001b[0m \u001b[0ml_it\u001b[0m\u001b[0;34m.\u001b[0m\u001b[0mnext\u001b[0m\u001b[0;34m(\u001b[0m\u001b[0;34m)\u001b[0m\u001b[0;34m\u001b[0m\u001b[0m\n\u001b[0m",
        "\u001b[0;31mStopIteration\u001b[0m: "
       ]
      },
      {
       "output_type": "stream",
       "stream": "stdout",
       "text": [
        "[1, 3, 6, 2]\n",
        "1\n",
        "3\n",
        "6\n",
        "2\n"
       ]
      }
     ],
     "prompt_number": 10
    },
    {
     "cell_type": "markdown",
     "metadata": {},
     "source": [
      "Man kan definere egne _iterables_ og _iterators_. De trenger ikke arve fra noe, da python er _duck typed_."
     ]
    },
    {
     "cell_type": "code",
     "collapsed": false,
     "input": [
      "def even(index):\n",
      "  return index % 2 == 0\n",
      "\n",
      "class even_list:\n",
      "  def __init__(self, data):\n",
      "    self.data = data\n",
      "  \n",
      "  def __iter__(self):\n",
      "    return even_iter(self.data)\n",
      "\n",
      "class even_iter:\n",
      "  def __init__(self, data):\n",
      "    self.data = data\n",
      "    self.index = 0\n",
      "\n",
      "  def next(self):\n",
      "    if self.index >= len(self.data):\n",
      "      raise StopIteration\n",
      "    result = self.data[self.index]\n",
      "    self.index += 2\n",
      "    return result\n"
     ],
     "language": "python",
     "metadata": {},
     "outputs": [],
     "prompt_number": 11
    },
    {
     "cell_type": "code",
     "collapsed": false,
     "input": [
      "print l_s\n",
      "l_e = even_list(l_s)\n",
      "printall(l_e)\n",
      "print \"\"\n",
      "printall(l_e)"
     ],
     "language": "python",
     "metadata": {},
     "outputs": [
      {
       "output_type": "stream",
       "stream": "stdout",
       "text": [
        "[1, 2, 3, 5, 9, 11]\n",
        "1\n",
        "3\n",
        "9\n",
        "\n",
        "1\n",
        "3\n",
        "9\n"
       ]
      }
     ],
     "prompt_number": 12
    },
    {
     "cell_type": "markdown",
     "metadata": {},
     "source": [
      "Man kan ogs\u00e5 gj\u00f8re _iterable_ typen til sin egen _iterator_. Men pass p\u00e5, for da kan du kun iterere over _iterablen_ \u00e9n gang."
     ]
    },
    {
     "cell_type": "code",
     "collapsed": false,
     "input": [
      "class even_list_and_iter:\n",
      "  def __init__(self, data):\n",
      "    self.data = data\n",
      "    self.index = 0\n",
      "\n",
      "  def next(self):\n",
      "    if self.index >= len(self.data):\n",
      "      raise StopIteration\n",
      "    result = self.data[self.index]\n",
      "    self.index += 2\n",
      "    return result\n",
      "\n",
      "  def __iter__(self):\n",
      "    return self\n"
     ],
     "language": "python",
     "metadata": {},
     "outputs": [],
     "prompt_number": 13
    },
    {
     "cell_type": "code",
     "collapsed": false,
     "input": [
      "print l_s\n",
      "l_e2 = even_list_and_iter(l_s)\n",
      "printall(l_e2)\n",
      "print \"\"\n",
      "printall(l_e2)"
     ],
     "language": "python",
     "metadata": {},
     "outputs": [
      {
       "output_type": "stream",
       "stream": "stdout",
       "text": [
        "[1, 2, 3, 5, 9, 11]\n",
        "1\n",
        "3\n",
        "9\n",
        "\n"
       ]
      }
     ],
     "prompt_number": 14
    },
    {
     "cell_type": "markdown",
     "metadata": {},
     "source": [
      "Det finnes ogs\u00e5 en eldre type _iterator_, som ikke brukes mye lenger, men som fortsatt st\u00f8ttes.\n",
      "\n",
      "Denne er definert ved at den har en member function __\\__getitem\\__(self, index)__, som returnerer verdien ved en spesifisert index. Den kaster en __IndexError__ om index er out-of-bounds."
     ]
    },
    {
     "cell_type": "code",
     "collapsed": false,
     "input": [
      "class Square:\n",
      "    def __getitem__(self, index):\n",
      "        if index < 6:\n",
      "            return index*index\n",
      "        raise IndexError\n",
      "\n",
      "for v in Square():\n",
      "    print v\n",
      "\n",
      "print \"\"\n",
      "square = Square()\n",
      "print square[3]\n",
      "\n",
      "print 4 in square"
     ],
     "language": "python",
     "metadata": {},
     "outputs": [
      {
       "output_type": "stream",
       "stream": "stdout",
       "text": [
        "0\n",
        "1\n",
        "4\n",
        "9\n",
        "16\n",
        "25\n",
        "\n",
        "9\n",
        "True\n"
       ]
      }
     ],
     "prompt_number": 15
    },
    {
     "cell_type": "code",
     "collapsed": false,
     "input": [
      "square[10]"
     ],
     "language": "python",
     "metadata": {},
     "outputs": [
      {
       "ename": "IndexError",
       "evalue": "",
       "output_type": "pyerr",
       "traceback": [
        "\u001b[0;31m---------------------------------------------------------------------------\u001b[0m\n\u001b[0;31mIndexError\u001b[0m                                Traceback (most recent call last)",
        "\u001b[0;32m<ipython-input-16-0ff76b421a0d>\u001b[0m in \u001b[0;36m<module>\u001b[0;34m()\u001b[0m\n\u001b[0;32m----> 1\u001b[0;31m \u001b[0msquare\u001b[0m\u001b[0;34m[\u001b[0m\u001b[0;36m10\u001b[0m\u001b[0;34m]\u001b[0m\u001b[0;34m\u001b[0m\u001b[0m\n\u001b[0m",
        "\u001b[0;32m<ipython-input-15-542846877b90>\u001b[0m in \u001b[0;36m__getitem__\u001b[0;34m(self, index)\u001b[0m\n\u001b[1;32m      3\u001b[0m         \u001b[0;32mif\u001b[0m \u001b[0mindex\u001b[0m \u001b[0;34m<\u001b[0m \u001b[0;36m6\u001b[0m\u001b[0;34m:\u001b[0m\u001b[0;34m\u001b[0m\u001b[0m\n\u001b[1;32m      4\u001b[0m             \u001b[0;32mreturn\u001b[0m \u001b[0mindex\u001b[0m\u001b[0;34m*\u001b[0m\u001b[0mindex\u001b[0m\u001b[0;34m\u001b[0m\u001b[0m\n\u001b[0;32m----> 5\u001b[0;31m         \u001b[0;32mraise\u001b[0m \u001b[0mIndexError\u001b[0m\u001b[0;34m\u001b[0m\u001b[0m\n\u001b[0m\u001b[1;32m      6\u001b[0m \u001b[0;34m\u001b[0m\u001b[0m\n\u001b[1;32m      7\u001b[0m \u001b[0;32mfor\u001b[0m \u001b[0mv\u001b[0m \u001b[0;32min\u001b[0m \u001b[0mSquare\u001b[0m\u001b[0;34m(\u001b[0m\u001b[0;34m)\u001b[0m\u001b[0;34m:\u001b[0m\u001b[0;34m\u001b[0m\u001b[0m\n",
        "\u001b[0;31mIndexError\u001b[0m: "
       ]
      }
     ],
     "prompt_number": 16
    },
    {
     "cell_type": "markdown",
     "metadata": {},
     "source": [
      "Disse eldre _iteratorene_ ble byttet ut med de nyere med _next()_ metoden, antakelig fordi det som oftest kun er enkel iterering gjennom samlinga man er interessert i, og at dette gjorde det lettere med _lazy evaluation_.\n",
      "\n",
      "-----"
     ]
    },
    {
     "cell_type": "markdown",
     "metadata": {},
     "source": [
      "En __generator__ er en spesiell type _iterator_. For \u00e5 f\u00e5 en generator kaller man en _generator function_.\n",
      "\n",
      "En __generator function__ har samme syntax som en funksjon, bortsett fra at det inneholder n\u00f8kkelordet __yield__ istedet for __return__.\n",
      "\n",
      "N\u00e5r man kaller en _generator function_, s\u00e5 kj\u00f8res ikke koden i funksjonen, men en _generator_ opprettes og returneres. Denne _generatoren_ er en _iterator_ som har blitt automatisk definert."
     ]
    },
    {
     "cell_type": "code",
     "collapsed": false,
     "input": [
      "def simple_gen():\n",
      "    print \"At start of simple_gen\"\n",
      "    yield 's'\n",
      "    yield 'i'\n",
      "    yield 'm'\n",
      "    print \"In middle of simple_gen\"\n",
      "    yield 'p'\n",
      "    yield 'l'\n",
      "    yield 'e'\n",
      "    print \"At end of simple_gen\"\n",
      "s_g = simple_gen()\n",
      "print s_g\n",
      "print getattr(s_g, 'next')"
     ],
     "language": "python",
     "metadata": {},
     "outputs": [
      {
       "output_type": "stream",
       "stream": "stdout",
       "text": [
        "<generator object simple_gen at 0x2a92050>\n",
        "<method-wrapper 'next' of generator object at 0x2a92050>\n"
       ]
      }
     ],
     "prompt_number": 17
    },
    {
     "cell_type": "markdown",
     "metadata": {},
     "source": [
      "Hver gang man kaller _generator.next()_ s\u00e5 kj\u00f8res koden fra generator funksjonen frem til f\u00f8rste _yield_ statement. Deretter returneres verdien som yieldes, og generatoren suspendes, frem til neste kall til generator.next(). N\u00e5r slutten av generator funksjonen er n\u00e5dd, raises et _StopIteration_ exception."
     ]
    },
    {
     "cell_type": "code",
     "collapsed": false,
     "input": [
      "print s_g.next()"
     ],
     "language": "python",
     "metadata": {},
     "outputs": [
      {
       "output_type": "stream",
       "stream": "stdout",
       "text": [
        "At start of simple_gen\n",
        "s\n"
       ]
      }
     ],
     "prompt_number": 18
    },
    {
     "cell_type": "code",
     "collapsed": false,
     "input": [
      "#import time\n",
      "#for value in simple_gen():\n",
      "#    print value\n",
      "#    time.sleep(2)"
     ],
     "language": "python",
     "metadata": {},
     "outputs": [],
     "prompt_number": 19
    },
    {
     "cell_type": "markdown",
     "metadata": {},
     "source": [
      "Med _generators_ s\u00e5 kan man definere en _iterator_ enklere enn om man hadde skrevet en egen _iterator_ for h\u00e5nd."
     ]
    },
    {
     "cell_type": "code",
     "collapsed": false,
     "input": [
      "def even_gen(data):\n",
      "    for index in xrange(0, len(data), 2):\n",
      "        yield data[index]\n",
      "\n",
      "print l_s\n",
      "for v in even_gen(l_s):\n",
      "    print v"
     ],
     "language": "python",
     "metadata": {},
     "outputs": [
      {
       "output_type": "stream",
       "stream": "stdout",
       "text": [
        "[1, 2, 3, 5, 9, 11]\n",
        "1\n",
        "3\n",
        "9\n"
       ]
      }
     ],
     "prompt_number": 20
    },
    {
     "cell_type": "markdown",
     "metadata": {},
     "source": [
      "_Generators_ er veldige nyttige, da de er langt mer _plass-effektive_ enn \u00e5 lagre hele samlinga i minne p\u00e5 \u00e9n gang, og kan v\u00e6re mer _tidseffektive_, da de gir _lazy evaluation_, og dermed ikke kalkulerer mer enn du ber om.\n",
      "\n",
      "Dette gj\u00f8r generators ekstra nytte i visse tilfeller.\n",
      "For eksempel om man:\n",
      "\n",
      "* har en _uendelig sekvens_"
     ]
    },
    {
     "cell_type": "code",
     "collapsed": false,
     "input": [
      "def fibonacci():\n",
      "    curr, next = 0, 1\n",
      "    while True:\n",
      "        yield curr\n",
      "        curr, next = next, curr + next\n",
      "\n",
      "for f in fibonacci():\n",
      "    print f\n",
      "    if f > 1000:\n",
      "        break"
     ],
     "language": "python",
     "metadata": {},
     "outputs": [
      {
       "output_type": "stream",
       "stream": "stdout",
       "text": [
        "0\n",
        "1\n",
        "1\n",
        "2\n",
        "3\n",
        "5\n",
        "8\n",
        "13\n",
        "21\n",
        "34\n",
        "55\n",
        "89\n",
        "144\n",
        "233\n",
        "377\n",
        "610\n",
        "987\n",
        "1597\n"
       ]
      }
     ],
     "prompt_number": 21
    },
    {
     "cell_type": "markdown",
     "metadata": {},
     "source": [
      "* vil ha _lazy evaluation_"
     ]
    },
    {
     "cell_type": "code",
     "collapsed": false,
     "input": [
      "def take(iterable, n):\n",
      "    iterator = iter(iterable)\n",
      "    for index in xrange(n):\n",
      "        yield iterator.next()\n",
      "    raise StopIteration\n",
      "\n",
      "for f in take(fibonacci(), 10):\n",
      "    print f"
     ],
     "language": "python",
     "metadata": {},
     "outputs": [
      {
       "output_type": "stream",
       "stream": "stdout",
       "text": [
        "0\n",
        "1\n",
        "1\n",
        "2\n",
        "3\n",
        "5\n",
        "8\n",
        "13\n",
        "21\n",
        "34\n"
       ]
      }
     ],
     "prompt_number": 22
    },
    {
     "cell_type": "markdown",
     "metadata": {},
     "source": [
      "* har en _syklisk sekvens_"
     ]
    },
    {
     "cell_type": "code",
     "collapsed": false,
     "input": [
      "def next_chess_player():\n",
      "    while True:\n",
      "        yield 'White'\n",
      "        yield 'Black'\n",
      "\n",
      "for p in take(next_chess_player(), 8):\n",
      "    print p"
     ],
     "language": "python",
     "metadata": {},
     "outputs": [
      {
       "output_type": "stream",
       "stream": "stdout",
       "text": [
        "White\n",
        "Black\n",
        "White\n",
        "Black\n",
        "White\n",
        "Black\n",
        "White\n",
        "Black\n"
       ]
      }
     ],
     "prompt_number": 23
    },
    {
     "cell_type": "markdown",
     "metadata": {},
     "source": [
      "* ikke har tilgang til verdiene p\u00e5 forh\u00e5nd"
     ]
    },
    {
     "cell_type": "code",
     "collapsed": false,
     "input": [
      "def retrieve_user_commands():\n",
      "    while True:\n",
      "        cmd = raw_input(\"$ \")\n",
      "\n",
      "def execute_user_commands():\n",
      "    for cmd in retrieve_user_commands():\n",
      "        print \"Executing:\", cmd"
     ],
     "language": "python",
     "metadata": {},
     "outputs": [],
     "prompt_number": 24
    },
    {
     "cell_type": "code",
     "collapsed": false,
     "input": [
      "from Xlib import display\n",
      "import time\n",
      "\n",
      "def mousepos():\n",
      "    data = display.Display().screen().root.query_pointer()._data\n",
      "    return data[\"root_x\"], data[\"root_y\"]\n",
      "\n",
      "def mousepos_stream():\n",
      "    while True:\n",
      "        time.sleep(0.5)\n",
      "        yield mousepos()\n",
      "    \n",
      "for mp in take(mousepos_stream(), 5):\n",
      "    print mp"
     ],
     "language": "python",
     "metadata": {},
     "outputs": [
      {
       "output_type": "stream",
       "stream": "stdout",
       "text": [
        "<class 'Xlib.protocol.request.QueryExtension'>\n",
        "(969, 952)\n",
        "<class 'Xlib.protocol.request.QueryExtension'>"
       ]
      },
      {
       "output_type": "stream",
       "stream": "stdout",
       "text": [
        "\n",
        "(969, 952)\n",
        "<class 'Xlib.protocol.request.QueryExtension'>"
       ]
      },
      {
       "output_type": "stream",
       "stream": "stdout",
       "text": [
        "\n",
        "(969, 952)\n",
        "<class 'Xlib.protocol.request.QueryExtension'>"
       ]
      },
      {
       "output_type": "stream",
       "stream": "stdout",
       "text": [
        "\n",
        "(969, 952)\n",
        "<class 'Xlib.protocol.request.QueryExtension'>"
       ]
      },
      {
       "output_type": "stream",
       "stream": "stdout",
       "text": [
        "\n",
        "(969, 952)\n"
       ]
      }
     ],
     "prompt_number": 25
    },
    {
     "cell_type": "markdown",
     "metadata": {},
     "source": [
      "Du kan gi argumenter til en _generator function_, som kan brukes i _generatoren_."
     ]
    },
    {
     "cell_type": "code",
     "collapsed": false,
     "input": [
      "def mousepos_stream_(interval = 2):\n",
      "    while True:\n",
      "        time.sleep(interval)\n",
      "        yield mousepos()\n",
      "\n",
      "for mp in take(mousepos_stream_(0.5), 5):\n",
      "    print mp"
     ],
     "language": "python",
     "metadata": {},
     "outputs": [
      {
       "output_type": "stream",
       "stream": "stdout",
       "text": [
        "<class 'Xlib.protocol.request.QueryExtension'>\n",
        "(990, 733)\n",
        "<class 'Xlib.protocol.request.QueryExtension'>"
       ]
      },
      {
       "output_type": "stream",
       "stream": "stdout",
       "text": [
        "\n",
        "(724, 370)\n",
        "<class 'Xlib.protocol.request.QueryExtension'>"
       ]
      },
      {
       "output_type": "stream",
       "stream": "stdout",
       "text": [
        "\n",
        "(996, 468)\n",
        "<class 'Xlib.protocol.request.QueryExtension'>"
       ]
      },
      {
       "output_type": "stream",
       "stream": "stdout",
       "text": [
        "\n",
        "(1300, 581)\n",
        "<class 'Xlib.protocol.request.QueryExtension'>"
       ]
      },
      {
       "output_type": "stream",
       "stream": "stdout",
       "text": [
        "\n",
        "(1054, 317)\n"
       ]
      }
     ],
     "prompt_number": 26
    },
    {
     "cell_type": "markdown",
     "metadata": {},
     "source": [
      "Disse argumentene kan ogs\u00e5 v\u00e6re andre funksjoner."
     ]
    },
    {
     "cell_type": "code",
     "collapsed": false,
     "input": [
      "def streamify(func, interval):\n",
      "    while True:\n",
      "        time.sleep(interval)\n",
      "        yield func()\n",
      "\n",
      "for mp in take(streamify(mousepos, 1.5), 5):\n",
      "    print mp"
     ],
     "language": "python",
     "metadata": {},
     "outputs": [
      {
       "output_type": "stream",
       "stream": "stdout",
       "text": [
        "<class 'Xlib.protocol.request.QueryExtension'>\n",
        "(470, 271)\n",
        "<class 'Xlib.protocol.request.QueryExtension'>"
       ]
      },
      {
       "output_type": "stream",
       "stream": "stdout",
       "text": [
        "\n",
        "(1073, 949)\n",
        "<class 'Xlib.protocol.request.QueryExtension'>"
       ]
      },
      {
       "output_type": "stream",
       "stream": "stdout",
       "text": [
        "\n",
        "(166, 400)\n",
        "<class 'Xlib.protocol.request.QueryExtension'>"
       ]
      },
      {
       "output_type": "stream",
       "stream": "stdout",
       "text": [
        "\n",
        "(985, 974)\n",
        "<class 'Xlib.protocol.request.QueryExtension'>"
       ]
      },
      {
       "output_type": "stream",
       "stream": "stdout",
       "text": [
        "\n",
        "(1547, 356)\n"
       ]
      }
     ],
     "prompt_number": 27
    },
    {
     "cell_type": "markdown",
     "metadata": {},
     "source": [
      "_Generatoren_ kan ogs\u00e5 ta input. Dette gj\u00f8res ved at man kaller funksjonen __generator.send(value)__.\n",
      "\n",
      "Merk at f\u00f8rste kall til generatoren m\u00e5 enten v\u00e6re _next()_ eller _send(None)_, fordi verdien ikke kan brukes f\u00f8r generatoren har n\u00e5dd f\u00f8rste _yield_ statement."
     ]
    },
    {
     "cell_type": "code",
     "collapsed": false,
     "input": [
      "def counter(maximum):\n",
      "    i = 0\n",
      "    while i < maximum:\n",
      "        val = (yield i)\n",
      "        # If value provided, change counter\n",
      "        if val is not None:\n",
      "            i = val\n",
      "        else:\n",
      "            i += 1\n",
      "\n",
      "ct = counter(10)\n",
      "print ct.next()\n",
      "print ct.next()\n",
      "print ct.send(8)\n",
      "print ct.next()\n",
      "print ct.next()"
     ],
     "language": "python",
     "metadata": {},
     "outputs": [
      {
       "ename": "StopIteration",
       "evalue": "",
       "output_type": "pyerr",
       "traceback": [
        "\u001b[0;31m---------------------------------------------------------------------------\u001b[0m\n\u001b[0;31mStopIteration\u001b[0m                             Traceback (most recent call last)",
        "\u001b[0;32m<ipython-input-28-a0f105394eb3>\u001b[0m in \u001b[0;36m<module>\u001b[0;34m()\u001b[0m\n\u001b[1;32m     14\u001b[0m \u001b[0;32mprint\u001b[0m \u001b[0mct\u001b[0m\u001b[0;34m.\u001b[0m\u001b[0msend\u001b[0m\u001b[0;34m(\u001b[0m\u001b[0;36m8\u001b[0m\u001b[0;34m)\u001b[0m\u001b[0;34m\u001b[0m\u001b[0m\n\u001b[1;32m     15\u001b[0m \u001b[0;32mprint\u001b[0m \u001b[0mct\u001b[0m\u001b[0;34m.\u001b[0m\u001b[0mnext\u001b[0m\u001b[0;34m(\u001b[0m\u001b[0;34m)\u001b[0m\u001b[0;34m\u001b[0m\u001b[0m\n\u001b[0;32m---> 16\u001b[0;31m \u001b[0;32mprint\u001b[0m \u001b[0mct\u001b[0m\u001b[0;34m.\u001b[0m\u001b[0mnext\u001b[0m\u001b[0;34m(\u001b[0m\u001b[0;34m)\u001b[0m\u001b[0;34m\u001b[0m\u001b[0m\n\u001b[0m",
        "\u001b[0;31mStopIteration\u001b[0m: "
       ]
      },
      {
       "output_type": "stream",
       "stream": "stdout",
       "text": [
        "0\n",
        "1\n",
        "8\n",
        "9\n"
       ]
      }
     ],
     "prompt_number": 28
    },
    {
     "cell_type": "markdown",
     "metadata": {},
     "source": [
      "Et __generator expression__ er en enda mer konsis m\u00e5te \u00e5 lage en generator. Det har samme syntaks som en __list comprehension__, men har lazy evaluation."
     ]
    },
    {
     "cell_type": "code",
     "collapsed": false,
     "input": [
      "print(l_s)\n",
      "print [l_s[i] for i in xrange(0,len(l_s),2)]\n",
      "printall(l_s[i] for i in xrange(0,len(l_s),2))\n",
      "list((l_s[i] for i in xrange(0,len(l_s),2)))"
     ],
     "language": "python",
     "metadata": {},
     "outputs": [
      {
       "output_type": "stream",
       "stream": "stdout",
       "text": [
        "[1, 2, 3, 5, 9, 11]\n",
        "[1, 3, 9]\n",
        "1\n",
        "3\n",
        "9\n"
       ]
      },
      {
       "output_type": "pyout",
       "prompt_number": 30,
       "text": [
        "[1, 3, 9]"
       ]
      }
     ],
     "prompt_number": 30
    }
   ],
   "metadata": {}
  }
 ]
}
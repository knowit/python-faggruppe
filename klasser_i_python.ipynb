{
 "metadata": {
  "name": ""
 },
 "nbformat": 3,
 "nbformat_minor": 0,
 "worksheets": [
  {
   "cells": [
    {
     "cell_type": "markdown",
     "metadata": {
      "slideshow": {
       "slide_type": "slide"
      }
     },
     "source": [
      "<img src=\"files/Downloads/stay-classy.png\">\n",
      "Klasser i Python\n",
      "================\n",
      "\n",
      "* Python har st\u00f8tte for objekt-orientering\n",
      "* Vanlig exception-mekanisme\n",
      "* Multiple inheritance\n",
      "* Reflection (introspection)\n",
      "* Masse bells and whistles for \u00e5 gj\u00f8re OOP bra, generelt\n",
      "* Metaprogrammering (metaklasser)\n",
      "* Abstract Base Classes (veldig kult)\n",
      "* Referanse, google \"python object model\": http://docs.python.org/2/reference/datamodel.html\n"
     ]
    },
    {
     "cell_type": "markdown",
     "metadata": {
      "slideshow": {
       "slide_type": "slide"
      }
     },
     "source": [
      "<img src=\"files/Downloads/feature-not-bug.jpg\">\n",
      "\n",
      "Bruk av klasser i Python\n",
      "=======================\n",
      "\n",
      "* Som namespace? Nei. En modul (fil som ender i .py er ett namespace).\n",
      "* Du trenger ikke \u00e5 importere klasser. De er synlige i modulen sin.\n",
      "* Standard dot-operator (accessor).\n",
      "* Parenteser er alltid obligatoriske for metodekall, selv uten argumenter.\n",
      "* Ikke alltid idiomatisk!\n",
      "* Skal snakke litt om motivasjon for klasser - du trenger dem veldig sjeldent."
     ]
    },
    {
     "cell_type": "markdown",
     "metadata": {
      "slideshow": {
       "slide_type": "slide"
      }
     },
     "source": [
      "<img src=\"files/Downloads/suitcase.jpg\">\n",
      "\n",
      "Use-cases\n",
      "==========\n",
      "\n",
      "* Hvis klassen din inneholder ordet 'strategy' burde den v\u00e6rt en funksjon\n",
      "* Hvis klassen din inneholder ordet 'factory' burde den v\u00e6rt en funksjon\n",
      "* Hvis klassen din inneholder navnet 'command' burde den v\u00e6rt en funksjon (evt closure)\n",
      "* Hvis klassen din er en 'observer', 'visitor' burde den v\u00e6rt en funksjon\n",
      "* Hvis klassen din er en 'template' burde den v\u00e6re en closure\n",
      "* Hvis du bruker klassen for destructoren (raai) burde den v\u00e6rt en context-manager\n",
      "* Hvis klassen din er en singleton s\u00e5 gj\u00f8r du det feil. En modul er en singleton!\n",
      "* Hvis klassen din er ett value-objekt, bruk en namedtuple!"
     ]
    },
    {
     "cell_type": "markdown",
     "metadata": {
      "slideshow": {
       "slide_type": "slide"
      }
     },
     "source": [
      "<img src=\"files/Downloads/spaghetti.jpg\">\n",
      "\n",
      "En klasse er tilstand + oppf\u00f8rsel!\n",
      "-----------\n",
      "\n",
      "* Hvis du bare trenger en av delene; husk Zen of Python\n",
      "* Det er veldig ofte lettere \u00e5 programmere oppf\u00f8rsel og tilstand separat\n",
      "* Python gj\u00f8r det lett \u00e5 bruke value-objects og funksjoner (h\u00f8yere ordens funksjoner ogs\u00e5)"
     ]
    },
    {
     "cell_type": "code",
     "collapsed": false,
     "input": [
      "# Now for something completely different\n",
      "\n",
      "def foo(a, *varargs): # String varargs ... i Java\n",
      "    print a\n",
      "    print type(a)\n",
      "    print varargs\n",
      "    print type(varargs)\n",
      "\n",
      "foo(1, 2, 3)"
     ],
     "language": "python",
     "metadata": {},
     "outputs": [
      {
       "output_type": "stream",
       "stream": "stdout",
       "text": [
        "1\n",
        "<type 'int'>\n",
        "(2, 3)\n",
        "<type 'tuple'>\n"
       ]
      }
     ],
     "prompt_number": 2
    },
    {
     "cell_type": "code",
     "collapsed": false,
     "input": [
      "def bar(a, b, c):\n",
      "    print a\n",
      "    print b\n",
      "    print c\n",
      "args = (1, 2, 3)\n",
      "bar(*args) # haha, barargs\n",
      "bar(args[0], args[1], args[2])"
     ],
     "language": "python",
     "metadata": {},
     "outputs": [
      {
       "output_type": "stream",
       "stream": "stdout",
       "text": [
        "1\n",
        "2\n",
        "3\n",
        "1\n",
        "2\n",
        "3\n"
       ]
      }
     ],
     "prompt_number": 3
    },
    {
     "cell_type": "code",
     "collapsed": false,
     "input": [
      "# Unpacking:\n",
      "x, y, z = args\n",
      "print z\n",
      "# Swap variables e.l. atomisk:\n",
      "x, y = y, x + z\n",
      "print y"
     ],
     "language": "python",
     "metadata": {},
     "outputs": [
      {
       "output_type": "stream",
       "stream": "stdout",
       "text": [
        "3\n",
        "4\n"
       ]
      }
     ],
     "prompt_number": 4
    },
    {
     "cell_type": "code",
     "collapsed": false,
     "input": [
      "# Underliggende modell, slik virker funksjoner som help():\n",
      "foo = object()\n",
      "attributes = dir(foo)\n",
      "for attribute in attributes:\n",
      "    value = getattr(foo, attribute)\n",
      "    print 'foo.{} = {}, doc = \\n\\t{}'.format(attribute, str(value), value.__doc__)\n"
     ],
     "language": "python",
     "metadata": {},
     "outputs": [
      {
       "output_type": "stream",
       "stream": "stdout",
       "text": [
        "foo.__class__ = <type 'object'>, doc = \n",
        "\tThe most base type\n",
        "foo.__delattr__ = <method-wrapper '__delattr__' of object object at 0x10b1b5b00>, doc = \n",
        "\tx.__delattr__('name') <==> del x.name\n",
        "foo.__doc__ = The most base type, doc = \n",
        "\tstr(object='') -> string\n",
        "\n",
        "Return a nice string representation of the object.\n",
        "If the argument is a string, the return value is the same object.\n",
        "foo.__format__ = <built-in method __format__ of object object at 0x10b1b5b00>, doc = \n",
        "\tdefault object formatter\n",
        "foo.__getattribute__ = <method-wrapper '__getattribute__' of object object at 0x10b1b5b00>, doc = \n",
        "\tx.__getattribute__('name') <==> x.name\n",
        "foo.__hash__ = <method-wrapper '__hash__' of object object at 0x10b1b5b00>, doc = \n",
        "\tx.__hash__() <==> hash(x)\n",
        "foo.__init__ = <method-wrapper '__init__' of object object at 0x10b1b5b00>, doc = \n",
        "\tx.__init__(...) initializes x; see help(type(x)) for signature\n",
        "foo.__new__ = <built-in method __new__ of type object at 0x10b0dd5d0>, doc = \n",
        "\tT.__new__(S, ...) -> a new object with type S, a subtype of T\n",
        "foo.__reduce__ = <built-in method __reduce__ of object object at 0x10b1b5b00>, doc = \n",
        "\thelper for pickle\n",
        "foo.__reduce_ex__ = <built-in method __reduce_ex__ of object object at 0x10b1b5b00>, doc = \n",
        "\thelper for pickle\n",
        "foo.__repr__ = <method-wrapper '__repr__' of object object at 0x10b1b5b00>, doc = \n",
        "\tx.__repr__() <==> repr(x)\n",
        "foo.__setattr__ = <method-wrapper '__setattr__' of object object at 0x10b1b5b00>, doc = \n",
        "\tx.__setattr__('name', value) <==> x.name = value\n",
        "foo.__sizeof__ = <built-in method __sizeof__ of object object at 0x10b1b5b00>, doc = \n",
        "\t__sizeof__() -> int\n",
        "size of object in memory, in bytes\n",
        "foo.__str__ = <method-wrapper '__str__' of object object at 0x10b1b5b00>, doc = \n",
        "\tx.__str__() <==> str(x)\n",
        "foo.__subclasshook__ = <built-in method __subclasshook__ of type object at 0x10b0dd5d0>, doc = \n",
        "\tAbstract classes can override this to customize issubclass().\n",
        "\n",
        "This is invoked early on by abc.ABCMeta.__subclasscheck__().\n",
        "It should return True, False or NotImplemented.  If it returns\n",
        "NotImplemented, the normal algorithm is used.  Otherwise, it\n",
        "overrides the normal algorithm (and the outcome is cached).\n",
        "\n"
       ]
      }
     ],
     "prompt_number": 5
    },
    {
     "cell_type": "code",
     "collapsed": false,
     "input": [
      "# Minimal nyttig klasse:\n",
      "class MyApplicationException(Exception): # Arver Exception\n",
      "    \"\"\"This exception is raised by `MyApplication`.\"\"\" # Dokumentasjon\n",
      "    \n",
      "err = MyApplicationException(\"REALLY HORRENDOUSLY BAD ERROR\")\n",
      "print err\n",
      "print dir(err)\n",
      "print err.args\n",
      "print err.message"
     ],
     "language": "python",
     "metadata": {},
     "outputs": [
      {
       "output_type": "stream",
       "stream": "stdout",
       "text": [
        "REALLY HORRENDOUSLY BAD ERROR\n",
        "['__class__', '__delattr__', '__dict__', '__doc__', '__format__', '__getattribute__', '__getitem__', '__getslice__', '__hash__', '__init__', '__module__', '__new__', '__reduce__', '__reduce_ex__', '__repr__', '__setattr__', '__setstate__', '__sizeof__', '__str__', '__subclasshook__', '__unicode__', '__weakref__', 'args', 'message']\n",
        "('REALLY HORRENDOUSLY BAD ERROR',)\n",
        "REALLY HORRENDOUSLY BAD ERROR\n"
       ]
      }
     ],
     "prompt_number": 7
    },
    {
     "cell_type": "code",
     "collapsed": false,
     "input": [
      "import traceback\n",
      "\n",
      "try:\n",
      "    raise err # throw\n",
      "except ValueError:\n",
      "    raise\n",
      "except MyApplicationException as problem: # catch\n",
      "    print problem.message\n",
      "    traceback.print_exc() # Python defaulter til dette + sys.exit(-1)\n",
      "except (ZeroDivisionError, ArithmeticError) as wat: # Multi-catch\n",
      "    print 'Wat'\n",
      "finally:\n",
      "    print \"The fight goes on\""
     ],
     "language": "python",
     "metadata": {},
     "outputs": [
      {
       "output_type": "stream",
       "stream": "stdout",
       "text": [
        "REALLY HORRENDOUSLY BAD ERROR\n",
        "The fight goes on\n"
       ]
      },
      {
       "output_type": "stream",
       "stream": "stderr",
       "text": [
        "Traceback (most recent call last):\n",
        "  File \"<ipython-input-8-6d81b765db3d>\", line 4, in <module>\n",
        "    raise err # throw\n",
        "MyApplicationException: REALLY HORRENDOUSLY BAD ERROR\n"
       ]
      }
     ],
     "prompt_number": 8
    },
    {
     "cell_type": "code",
     "collapsed": false,
     "input": [
      "# Constructor og explicit self\n",
      "class CanConstruct(object):\n",
      "    def __init__(self, open_data):\n",
      "        self.open_data = open_data\n",
      "instance = CanConstruct(1231)\n",
      "print CanConstruct(9).open_data"
     ],
     "language": "python",
     "metadata": {},
     "outputs": [
      {
       "output_type": "stream",
       "stream": "stdout",
       "text": [
        "9\n"
       ]
      }
     ],
     "prompt_number": 9
    },
    {
     "cell_type": "code",
     "collapsed": false,
     "input": [
      "# Finnes ikke `private`, konvensjon over syntaks:\n",
      "class EncapsulatedData(object):\n",
      "    def __init__(self, hide_me):\n",
      "        self._hide_me = hide_me\n",
      "        self.__hide_me = hide_me\n",
      "    def __str__(self):\n",
      "        return str(self.__hide_me)\n",
      "print EncapsulatedData(3)\n",
      "print EncapsulatedData(3).__dict__\n"
     ],
     "language": "python",
     "metadata": {},
     "outputs": [
      {
       "output_type": "stream",
       "stream": "stdout",
       "text": [
        "3\n",
        "{'_EncapsulatedData__hide_me': 3, '_hide_me': 3}\n"
       ]
      }
     ],
     "prompt_number": 15
    },
    {
     "cell_type": "code",
     "collapsed": false,
     "input": [
      "class SupportsEqualAndStr(object):\n",
      "    def __init__(self, fee, interest_rate):\n",
      "        self.fee = fee\n",
      "        self.interest_rate = interest_rate\n",
      "    def __eq__(self, other):\n",
      "        return isinstance(other, self.__class__) and self.fee == other.fee and self.interest_rate == other.interest_rate\n",
      "    def __ne__(self, other): # N\u00f8dvendig! Bruker object identity by default\n",
      "        return not self == other\n",
      "    def __str__(self):\n",
      "        return \"Account(NOK {}, {}%)\".format(self.fee, self.interest_rate)\n",
      "a, b = SupportsEqualAndStr(9001, 3), SupportsEqualAndStr(9001, 3)\n",
      "print a == b, a != b\n",
      "print a, b\n",
      "print SupportsEqualAndStr(91, 3).__class__.__dict__"
     ],
     "language": "python",
     "metadata": {},
     "outputs": [
      {
       "output_type": "stream",
       "stream": "stdout",
       "text": [
        "True False\n",
        "Account(NOK 9001, 3%) Account(NOK 9001, 3%)\n",
        "{'__ne__': <function __ne__ at 0x10da1c410>, '__module__': '__main__', '__weakref__': <attribute '__weakref__' of 'SupportsEqualAndStr' objects>, '__str__': <function __str__ at 0x10da1c320>, '__dict__': <attribute '__dict__' of 'SupportsEqualAndStr' objects>, '__eq__': <function __eq__ at 0x10da1c398>, '__doc__': None, '__init__': <function __init__ at 0x10da1c2a8>}\n"
       ]
      }
     ],
     "prompt_number": 17
    },
    {
     "cell_type": "code",
     "collapsed": false,
     "input": [
      "# Ofte bedre l\u00f8sning...\n",
      "import collections\n",
      "Account = collections.namedtuple('Account', ['fee', 'interest_rate'])\n",
      "print Account(9001, 3)\n"
     ],
     "language": "python",
     "metadata": {},
     "outputs": [
      {
       "output_type": "stream",
       "stream": "stdout",
       "text": [
        "Account(fee=9001, interest_rate=3)\n"
       ]
      }
     ],
     "prompt_number": 21
    },
    {
     "cell_type": "code",
     "collapsed": false,
     "input": [
      "# I noen tilfeller til og med:\n",
      "account = {'fee': 9001, 'interest_rate': 3}\n",
      "print account"
     ],
     "language": "python",
     "metadata": {},
     "outputs": [
      {
       "output_type": "stream",
       "stream": "stdout",
       "text": [
        "{'interest_rate': 3, 'fee': 9001}\n"
       ]
      }
     ],
     "prompt_number": 22
    },
    {
     "cell_type": "code",
     "collapsed": false,
     "input": [
      "import math\n",
      "class WhatReallyHappens(object):\n",
      "    CLASS_CONSTANT = math.pi\n",
      "    def __init__(self, a, b):\n",
      "        self.a = a\n",
      "        print self.__dict__\n",
      "        self.b = b\n",
      "        print self.__dict__\n",
      "    def method(self, *args):\n",
      "        return self.a\n",
      "    foo = max\n",
      "instance = WhatReallyHappens(\"When I create\", \"classes ?\")\n",
      "print instance.__class__.__dict__\n",
      "print instance.b\n",
      "print instance.CLASS_CONSTANT\n",
      "print instance.method(9) # bound metode (tilh\u00f8rer instance)\n",
      "print WhatReallyHappens.method(instance, \"args\") # unbound metode\n",
      "# Kan omg\u00e5 alt ved \u00e5 bruke __dict__:\n",
      "instance.__dict__['attr'] = 'hoops'\n",
      "print instance.attr"
     ],
     "language": "python",
     "metadata": {},
     "outputs": [
      {
       "output_type": "stream",
       "stream": "stdout",
       "text": [
        "{'a': 'When I create'}\n",
        "{'a': 'When I create', 'b': 'classes ?'}\n",
        "{'__module__': '__main__', 'CLASS_CONSTANT': 3.141592653589793, '__doc__': None, '__dict__': <attribute '__dict__' of 'WhatReallyHappens' objects>, 'foo': <built-in function max>, '__weakref__': <attribute '__weakref__' of 'WhatReallyHappens' objects>, 'method': <function method at 0x10da0b230>, '__init__': <function __init__ at 0x10da0b1b8>}\n",
        "classes ?\n",
        "3.14159265359\n",
        "When I create\n",
        "When I create\n",
        "hoops\n"
       ]
      }
     ],
     "prompt_number": 24
    },
    {
     "cell_type": "code",
     "collapsed": false,
     "input": [
      "# Arv\n",
      "class Foo(object):\n",
      "    def __init__(self, arg):\n",
      "        print \"Init for Foo (from {})\".format(self.__class__.__name__)\n",
      "        self.arg = arg\n",
      "# How to super\n",
      "class Bar(Foo):\n",
      "    def __init__(self):\n",
      "        Foo.__init__(self, 3)\n",
      "print Bar().arg\n",
      "class Baz(Bar):\n",
      "    def __init__(self):\n",
      "        super(Baz, self).__init__() # I python3 er dette bare super(self).__init__\n",
      "print Baz().arg\n",
      "\n",
      "class Baar(object):\n",
      "    def __init__(self, arg):\n",
      "        print \"Init for Baar (from {})\".format(self.__class__.__name__)        \n",
      "        self.arg = arg\n",
      "\n",
      "def thing_to_string(thing):\n",
      "    items = {}\n",
      "    for attribute, value in thing.__dict__.items():\n",
      "        items[attribute] = str(value)\n",
      "    return \"{}({})\".format(thing.__class__.__name__, str(items))\n",
      "\n",
      "class FooBaar(Foo, Baar): # MRO er venstre-h\u00f8yre ved konflikter\n",
      "    def __init__(self):\n",
      "        print \"Init for FooBaar\"\n",
      "        super(FooBaar, self).__init__(9)\n",
      "class BaarFoo(Baar, Foo): # Men bruker du multiple inheritance er det best at det er som mixins (IKKE TILSTAND)\n",
      "    def __init__(self):\n",
      "        print \"Init for BaarFoo\"\n",
      "        super(BaarFoo, self).__init__(12)\n",
      "    __str__ = thing_to_string\n",
      "FooBaar()\n",
      "print BaarFoo()"
     ],
     "language": "python",
     "metadata": {},
     "outputs": [
      {
       "output_type": "stream",
       "stream": "stdout",
       "text": [
        "Init for Foo (from Bar)\n",
        "3\n",
        "Init for Foo (from Baz)\n",
        "3\n",
        "Init for FooBaar\n",
        "Init for Foo (from FooBaar)\n",
        "Init for BaarFoo\n",
        "Init for Baar (from BaarFoo)\n",
        "BaarFoo({'arg': '12'})\n"
       ]
      }
     ],
     "prompt_number": 30
    },
    {
     "cell_type": "code",
     "collapsed": false,
     "input": [
      "# OOP toolkit\n",
      "\n",
      "class Circle(object):\n",
      "    def __init__(self, radius):\n",
      "        self.radius = radius\n",
      "    def area(self):\n",
      "        return math.pi * self.radius ** 2\n",
      "    def __str__(self):\n",
      "        return \"{}(area = {}, radius = {})\".format(self.__class__.__name__, self.area(), self.radius)\n",
      "    \n",
      "def circle_from_diameter(diameter):\n",
      "    return Circle(diameter / 2.0)\n",
      "\n",
      "print circle_from_diameter(2)"
     ],
     "language": "python",
     "metadata": {},
     "outputs": [
      {
       "output_type": "stream",
       "stream": "stdout",
       "text": [
        "Circle(area = 3.14159265359, radius = 1.0)\n"
       ]
      }
     ],
     "prompt_number": 31
    },
    {
     "cell_type": "code",
     "collapsed": false,
     "input": [
      "class Tire(Circle):\n",
      "    def __init__(self, radius):\n",
      "        super(Tire, self).__init__(radius)\n",
      "    def area(self):\n",
      "        return super(Tire, self).area() * 0.2\n",
      "\n",
      "def tire_from_diameter(diameter): # Huffda...\n",
      "    return Tire(diameter / 2.0)\n",
      "\n",
      "print tire_from_diameter(4)"
     ],
     "language": "python",
     "metadata": {},
     "outputs": [
      {
       "output_type": "stream",
       "stream": "stdout",
       "text": [
        "Tire(area = 2.51327412287, radius = 2.0)\n"
       ]
      }
     ],
     "prompt_number": 32
    },
    {
     "cell_type": "code",
     "collapsed": false,
     "input": [
      "# Bedre:\n",
      "\n",
      "class Circle(object):\n",
      "    def __init__(self, radius):\n",
      "        self.radius = radius\n",
      "    def area(self):\n",
      "        return math.pi * self.radius ** 2\n",
      "    def __str__(self):\n",
      "        return \"{}(area = {}, radius = {})\".format(self.__class__.__name__, self.area(), self.radius)\n",
      "    @classmethod\n",
      "    def from_diameter(cls, diameter): # cls er n\u00e5v\u00e6rende klasse\n",
      "        return cls(diameter / 2.0)\n",
      "\n",
      "class Tire(Circle):\n",
      "    def __init__(self, radius):\n",
      "        super(Tire, self).__init__(radius)\n",
      "    def area(self):\n",
      "        return super(Tire, self).area() * 0.2\n",
      "\n",
      "print Circle.from_diameter(2)\n",
      "print Tire.from_diameter(2)"
     ],
     "language": "python",
     "metadata": {},
     "outputs": [
      {
       "output_type": "stream",
       "stream": "stdout",
       "text": [
        "Circle(area = 3.14159265359, radius = 1.0)\n",
        "Tire(area = 0.628318530718, radius = 1.0)\n"
       ]
      }
     ],
     "prompt_number": 33
    },
    {
     "cell_type": "code",
     "collapsed": false,
     "input": [
      "# Refaktorering, vi \u00f8nsker ikke lenger \u00e5 lagre radius men bare diameter! Faen?\n",
      "\n",
      "class Circle(object):\n",
      "    def __init__(self, radius):\n",
      "        self.diameter = 2.0 * radius\n",
      "    def area(self):\n",
      "        return math.pi * self.radius ** 2\n",
      "    def __str__(self):\n",
      "        return \"{}(area = {}, radius = {})\".format(self.__class__.__name__, self.area(), self.radius)\n",
      "    @classmethod\n",
      "    def from_diameter(cls, diameter): # cls er n\u00e5v\u00e6rende klasse\n",
      "        return cls(diameter / 2.0)\n",
      "    @property\n",
      "    def radius(self):\n",
      "        return self.diameter / 2.0\n",
      "    @radius.setter # Kan legge til gettere og settere i etterkant uten \u00e5 endre call-sites\n",
      "    def radius(self, new):\n",
      "        self.diameter = 2.0 * new\n",
      "        \n",
      "class Tire(Circle):\n",
      "    def __init__(self, radius):\n",
      "        super(Tire, self).__init__(radius)\n",
      "    def area(self):\n",
      "        return super(Tire, self).area() * 0.2\n",
      "\n",
      "print Circle.from_diameter(2).radius\n",
      "print Tire.from_diameter(2)\n",
      "small_tire = Tire(0.2)\n",
      "print small_tire\n",
      "small_tire.radius = 0.4\n",
      "print small_tire"
     ],
     "language": "python",
     "metadata": {},
     "outputs": [
      {
       "output_type": "stream",
       "stream": "stdout",
       "text": [
        "1.0\n",
        "Tire(area = 0.628318530718, radius = 1.0)\n",
        "Tire(area = 0.0251327412287, radius = 0.2)\n",
        "Tire(area = 0.100530964915, radius = 0.4)\n"
       ]
      }
     ],
     "prompt_number": 34
    },
    {
     "cell_type": "code",
     "collapsed": false,
     "input": [
      "def gcd(a, b):\n",
      "    return a if b == 0 else gcd(b, a % b)\n",
      "# Operator overloading\n",
      "class Fraction(object):\n",
      "    def __init__(self, top, bot):\n",
      "        norm = gcd(top, bot)\n",
      "        self.top, self.bot = top / norm, bot / norm\n",
      "    def __str__(self):\n",
      "        return \"{} / {}\".format(self.top, self.bot)\n",
      "    def __add__(self, other):\n",
      "        return Fraction(self.top * other.bot + other.top * self.bot, self.bot * other.bot)\n",
      "    def __sub__(self, other):\n",
      "        return self + Fraction(-other.top, other.bot)\n",
      "print Fraction(2, 4).__add__(Fraction(1, 8)) - Fraction(1, 20)\n",
      "# Se http://www.rafekettler.com/magicmethods.html eller offisiell doc"
     ],
     "language": "python",
     "metadata": {},
     "outputs": [
      {
       "output_type": "stream",
       "stream": "stdout",
       "text": [
        "23 / 40\n"
       ]
      }
     ],
     "prompt_number": 36
    },
    {
     "cell_type": "code",
     "collapsed": false,
     "input": [
      "# Selected anti-patterns\n",
      "\n",
      "# Dersom klassen er bare oppf\u00f8rsel, ingen tilstand er det ikke noe poeng i at det er en klasse.\n",
      "class GlorifiedNamespace(object):\n",
      "    \n",
      "    PUBLIC_STATIC_FINAL_STRING = \"konstant\"\n",
      "    _PRIVATE_STATIC_FINAL_STRING = \"konstant\"\n",
      "\n",
      "    def glorius_method(self, a, b):\n",
      "        return a + b # bruker *ikke* self, kunne v\u00e6rt en funksjon\n",
      "    \n",
      "    @staticmethod # public static void main(String args[]) {}\n",
      "    def main(args):\n",
      "        print ' '.join(args)\n",
      "GlorifiedNamespace.main('foo')"
     ],
     "language": "python",
     "metadata": {},
     "outputs": [
      {
       "output_type": "stream",
       "stream": "stdout",
       "text": [
        "f o o\n"
       ]
      }
     ],
     "prompt_number": 37
    },
    {
     "cell_type": "code",
     "collapsed": false,
     "input": [
      "# Strategy\n",
      "\n",
      "class Strategy(object):\n",
      "    \"\"\"Interface\"\"\"\n",
      "    \n",
      "    def handle(self, event):\n",
      "        pass\n",
      "    \n",
      "class BasicTerminalReportingStrategy(Strategy):\n",
      "    \n",
      "    def handle(self, event):\n",
      "        print event\n",
      "        \n",
      "class FileReportingStrategy(Strategy):\n",
      "    \n",
      "    def __init__(self, path):\n",
      "        self.path = path\n",
      "        \n",
      "    def handle(self, event):\n",
      "        with open(self.path, 'a') as outfile:\n",
      "            outfile.write(outfile)\n",
      "            \n",
      "def process_events(event_queue, strategy):\n",
      "    for event in event_queue:\n",
      "        strategy.handle(event)\n",
      "\n",
      "process_events(range(10), BasicTerminalReportingStrategy())"
     ],
     "language": "python",
     "metadata": {},
     "outputs": [
      {
       "output_type": "stream",
       "stream": "stdout",
       "text": [
        "0\n",
        "1\n",
        "2\n",
        "3\n",
        "4\n",
        "5\n",
        "6\n",
        "7\n",
        "8\n",
        "9\n"
       ]
      }
     ],
     "prompt_number": 40
    },
    {
     "cell_type": "code",
     "collapsed": false,
     "input": [
      "# Strategy done right (idiomatisk python)\n",
      "\n",
      "def show_event(event):\n",
      "    print event\n",
      "    \n",
      "def process_events(event_queue, process):\n",
      "    for event in event_queue:\n",
      "        process(event)\n",
      "\n",
      "process_events(range(10), show_event)\n",
      "#process_events(\"foobar\", FileReportingStrategy(\"output.log\").handle) # Send inn METODEN til objektet, trenger *ikke* klassen!\n",
      "\n",
      "def process(destination, event):\n",
      "    with open(destination, 'a') as out:\n",
      "        out.write(event)\n",
      "\n",
      "def file_writing_handler(destination): # Eller bruk en closure\n",
      "    def process(event):\n",
      "        with open(destination, 'a') as out:\n",
      "            out.write(event)\n",
      "    return process\n",
      "import functools\n",
      "def write_stuff(destination, event):\n",
      "    with open(destination, 'a') as out:\n",
      "        out.write(event)\n",
      "help(functools.partial)"
     ],
     "language": "python",
     "metadata": {},
     "outputs": [
      {
       "output_type": "stream",
       "stream": "stdout",
       "text": [
        "0\n",
        "1\n",
        "2\n",
        "3\n",
        "4\n",
        "5\n",
        "6\n",
        "7\n",
        "8\n",
        "9\n",
        "Help on class partial in module functools:\n",
        "\n",
        "class partial(__builtin__.object)\n",
        " |  partial(func, *args, **keywords) - new function with partial application\n",
        " |  of the given arguments and keywords.\n",
        " |  \n",
        " |  Methods defined here:\n",
        " |  \n",
        " |  __call__(...)\n",
        " |      x.__call__(...) <==> x(...)\n",
        " |  \n",
        " |  __delattr__(...)\n",
        " |      x.__delattr__('name') <==> del x.name\n",
        " |  \n",
        " |  __getattribute__(...)\n",
        " |      x.__getattribute__('name') <==> x.name\n",
        " |  \n",
        " |  __reduce__(...)\n",
        " |  \n",
        " |  __setattr__(...)\n",
        " |      x.__setattr__('name', value) <==> x.name = value\n",
        " |  \n",
        " |  __setstate__(...)\n",
        " |  \n",
        " |  ----------------------------------------------------------------------\n",
        " |  Data descriptors defined here:\n",
        " |  \n",
        " |  __dict__\n",
        " |  \n",
        " |  args\n",
        " |      tuple of arguments to future partial calls\n",
        " |  \n",
        " |  func\n",
        " |      function object to use in future partial calls\n",
        " |  \n",
        " |  keywords\n",
        " |      dictionary of keyword arguments to future partial calls\n",
        " |  \n",
        " |  ----------------------------------------------------------------------\n",
        " |  Data and other attributes defined here:\n",
        " |  \n",
        " |  __new__ = <built-in method __new__ of type object>\n",
        " |      T.__new__(S, ...) -> a new object with type S, a subtype of T\n",
        "\n"
       ]
      }
     ],
     "prompt_number": 42
    },
    {
     "cell_type": "code",
     "collapsed": false,
     "input": [
      "# C++ i Python\n",
      "\n",
      "class Foo(object):\n",
      "    def __init__(self):\n",
      "        self.take_lock()\n",
      "    def __del__(self):\n",
      "        self.release_lock()\n",
      "    def do_locked_stuff(self):\n",
      "        pass\n",
      "\n",
      "# Fy! Nei! Vi er garbage collected. Det kan ta *dagesvis* f\u00f8r __del__ kalles! Riktig:\n",
      "\n",
      "import contextlib\n",
      "\n",
      "@contextlib.contextmanager\n",
      "def tag(name):\n",
      "    print \"<{}>\".format(name) # set up\n",
      "    yield # kj\u00f8r kode som trenger cleanup\n",
      "    print \"</{}>\".format(name) # cleanup\n",
      "\n",
      "with tag(\"p\"):\n",
      "    print \"Paragraph\"\n",
      "\n",
      "import os\n",
      "\n",
      "# En veldig nyttig en:\n",
      "@contextlib.contextmanager\n",
      "def cd(destination):\n",
      "    current = os.getcwd()\n",
      "    os.chdir(destination)\n",
      "    yield\n",
      "    os.chdir(current)\n",
      "\n",
      "print os.getcwd()\n",
      "with cd(\"/Users/robin/code/markov\"):\n",
      "    print os.getcwd()\n",
      "    print os.popen(\"git branch\").read()\n",
      "print os.getcwd()\n",
      "    "
     ],
     "language": "python",
     "metadata": {},
     "outputs": [
      {
       "output_type": "stream",
       "stream": "stdout",
       "text": [
        "<p>\n",
        "Paragraph\n",
        "</p>\n",
        "/Users/robin\n",
        "/Users/robin/code/markov\n",
        "  list\n",
        "* master\n",
        "\n",
        "/Users/robin\n"
       ]
      }
     ],
     "prompt_number": 44
    },
    {
     "cell_type": "code",
     "collapsed": false,
     "input": [
      "%lsmagic\n"
     ],
     "language": "python",
     "metadata": {},
     "outputs": [
      {
       "json": [
        "{\"cell\": {\"prun\": \"ExecutionMagics\", \"file\": \"Other\", \"!\": \"OSMagics\", \"capture\": \"ExecutionMagics\", \"timeit\": \"ExecutionMagics\", \"script\": \"ScriptMagics\", \"ruby\": \"Other\", \"system\": \"OSMagics\", \"perl\": \"Other\", \"HTML\": \"Other\", \"bash\": \"Other\", \"python\": \"Other\", \"SVG\": \"Other\", \"javascript\": \"DisplayMagics\", \"writefile\": \"OSMagics\", \"pypy\": \"Other\", \"python3\": \"Other\", \"latex\": \"DisplayMagics\", \"sx\": \"OSMagics\", \"svg\": \"DisplayMagics\", \"html\": \"DisplayMagics\", \"sh\": \"Other\", \"time\": \"ExecutionMagics\", \"debug\": \"ExecutionMagics\"}, \"line\": {\"load\": \"CodeMagics\", \"psource\": \"NamespaceMagics\", \"lsmagic\": \"BasicMagics\", \"logstate\": \"LoggingMagics\", \"logstart\": \"LoggingMagics\", \"popd\": \"OSMagics\", \"ed\": \"Other\", \"pycat\": \"OSMagics\", \"loadpy\": \"CodeMagics\", \"install_ext\": \"ExtensionMagics\", \"cd\": \"OSMagics\", \"pastebin\": \"CodeMagics\", \"clear\": \"KernelMagics\", \"colors\": \"BasicMagics\", \"prun\": \"ExecutionMagics\", \"pushd\": \"OSMagics\", \"rep\": \"Other\", \"config\": \"ConfigMagics\", \"dirs\": \"OSMagics\", \"time\": \"ExecutionMagics\", \"who_ls\": \"NamespaceMagics\", \"install_profiles\": \"DeprecatedMagics\", \"macro\": \"ExecutionMagics\", \"autocall\": \"AutoMagics\", \"alias\": \"OSMagics\", \"bookmark\": \"OSMagics\", \"connect_info\": \"KernelMagics\", \"rehashx\": \"OSMagics\", \"pprint\": \"BasicMagics\", \"system\": \"OSMagics\", \"whos\": \"NamespaceMagics\", \"hist\": \"Other\", \"install_default_config\": \"DeprecatedMagics\", \"logoff\": \"LoggingMagics\", \"env\": \"OSMagics\", \"qtconsole\": \"KernelMagics\", \"load_ext\": \"ExtensionMagics\", \"save\": \"CodeMagics\", \"tb\": \"ExecutionMagics\", \"store\": \"StoreMagics\", \"more\": \"KernelMagics\", \"profile\": \"BasicMagics\", \"doctest_mode\": \"KernelMagics\", \"pylab\": \"PylabMagics\", \"run\": \"ExecutionMagics\", \"reset_selective\": \"NamespaceMagics\", \"pfile\": \"NamespaceMagics\", \"pinfo2\": \"NamespaceMagics\", \"pdef\": \"NamespaceMagics\", \"killbgscripts\": \"ScriptMagics\", \"who\": \"NamespaceMagics\", \"precision\": \"BasicMagics\", \"matplotlib\": \"PylabMagics\", \"quickref\": \"BasicMagics\", \"pinfo\": \"NamespaceMagics\", \"pwd\": \"OSMagics\", \"psearch\": \"NamespaceMagics\", \"autosave\": \"KernelMagics\", \"less\": \"KernelMagics\", \"sc\": \"OSMagics\", \"automagic\": \"AutoMagics\", \"reset\": \"NamespaceMagics\", \"sx\": \"OSMagics\", \"magic\": \"BasicMagics\", \"dhist\": \"OSMagics\", \"timeit\": \"ExecutionMagics\", \"edit\": \"KernelMagics\", \"logstop\": \"LoggingMagics\", \"gui\": \"BasicMagics\", \"xdel\": \"NamespaceMagics\", \"xmode\": \"BasicMagics\", \"notebook\": \"BasicMagics\", \"pdb\": \"ExecutionMagics\", \"recall\": \"HistoryMagics\", \"unalias\": \"OSMagics\", \"unload_ext\": \"ExtensionMagics\", \"alias_magic\": \"BasicMagics\", \"reload_ext\": \"ExtensionMagics\", \"man\": \"KernelMagics\", \"rerun\": \"HistoryMagics\", \"debug\": \"ExecutionMagics\", \"logon\": \"LoggingMagics\", \"page\": \"BasicMagics\", \"pdoc\": \"NamespaceMagics\", \"history\": \"HistoryMagics\"}}"
       ],
       "metadata": {},
       "output_type": "pyout",
       "prompt_number": 1,
       "text": [
        "Available line magics:\n",
        "%alias  %alias_magic  %autocall  %automagic  %autosave  %bookmark  %cd  %clear  %colors  %config  %connect_info  %debug  %dhist  %dirs  %doctest_mode  %ed  %edit  %env  %gui  %hist  %history  %install_default_config  %install_ext  %install_profiles  %killbgscripts  %less  %load  %load_ext  %loadpy  %logoff  %logon  %logstart  %logstate  %logstop  %lsmagic  %macro  %magic  %man  %matplotlib  %more  %notebook  %page  %pastebin  %pdb  %pdef  %pdoc  %pfile  %pinfo  %pinfo2  %popd  %pprint  %precision  %profile  %prun  %psearch  %psource  %pushd  %pwd  %pycat  %pylab  %qtconsole  %quickref  %recall  %rehashx  %reload_ext  %rep  %rerun  %reset  %reset_selective  %run  %save  %sc  %store  %sx  %system  %tb  %time  %timeit  %unalias  %unload_ext  %who  %who_ls  %whos  %xdel  %xmode\n",
        "\n",
        "Available cell magics:\n",
        "%%!  %%HTML  %%SVG  %%bash  %%capture  %%debug  %%file  %%html  %%javascript  %%latex  %%perl  %%prun  %%pypy  %%python  %%python3  %%ruby  %%script  %%sh  %%svg  %%sx  %%system  %%time  %%timeit  %%writefile\n",
        "\n",
        "Automagic is ON, % prefix IS NOT needed for line magics."
       ]
      }
     ],
     "prompt_number": 1
    },
    {
     "cell_type": "code",
     "collapsed": false,
     "input": [
      "from IPython.display import SVG\n"
     ],
     "language": "python",
     "metadata": {},
     "outputs": [
      {
       "output_type": "stream",
       "stream": "stderr",
       "text": [
        "UsageError: %%script is a cell magic, but the cell body is empty."
       ]
      }
     ],
     "prompt_number": 4
    },
    {
     "cell_type": "code",
     "collapsed": false,
     "input": [],
     "language": "python",
     "metadata": {},
     "outputs": []
    }
   ],
   "metadata": {}
  }
 ]
}
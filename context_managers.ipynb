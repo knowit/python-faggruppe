{
 "metadata": {
  "name": "context managers"
 },
 "nbformat": 3,
 "nbformat_minor": 0,
 "worksheets": [
  {
   "cells": [
    {
     "cell_type": "code",
     "collapsed": false,
     "input": [
      "foo = open('data.txt')\n",
      "for line in foo:\n",
      "    print line,\n",
      "foo.close()"
     ],
     "language": "python",
     "metadata": {},
     "outputs": []
    },
    {
     "cell_type": "code",
     "collapsed": false,
     "input": [
      "foo = open('data.txt')\n",
      "try:\n",
      "    for line in foo:\n",
      "        print line,\n",
      "finally:\n",
      "    foo.close()"
     ],
     "language": "python",
     "metadata": {},
     "outputs": []
    },
    {
     "cell_type": "code",
     "collapsed": false,
     "input": [
      "with open('data.txt') as foo:\n",
      "    for line in foo:\n",
      "        print line,"
     ],
     "language": "python",
     "metadata": {},
     "outputs": []
    },
    {
     "cell_type": "heading",
     "level": 2,
     "metadata": {},
     "source": [
      "Hvordan er context managers implementert?"
     ]
    },
    {
     "cell_type": "code",
     "collapsed": false,
     "input": [
      "foo = open('data.txt').__enter()__\n",
      "try:\n",
      "    for line in foo:\n",
      "        print line,\n",
      "finally:\n",
      "    foo.__exit__()"
     ],
     "language": "python",
     "metadata": {},
     "outputs": []
    },
    {
     "cell_type": "code",
     "collapsed": false,
     "input": [
      "class bar():\n",
      "    def __enter__(self):\n",
      "        print 'I',\n",
      "        \n",
      "    def __exit__(self, *args):\n",
      "        print 'turtles!'\n",
      "        \n",
      "with bar():\n",
      "    print 'like',\n",
      "    "
     ],
     "language": "python",
     "metadata": {},
     "outputs": []
    },
    {
     "cell_type": "code",
     "collapsed": false,
     "input": [
      "class open_file():\n",
      "    def __init__(self, file_name, mode='r'):\n",
      "        self.file_name = file_name\n",
      "        self.mode = mode\n",
      "        \n",
      "    def __enter__(self):\n",
      "        self.foo = open(self.file_name, self.mode)\n",
      "        return self.foo\n",
      "        \n",
      "    def __exit__(self, exc_type, exc_val, exc_tb):\n",
      "        self.foo.close()"
     ],
     "language": "python",
     "metadata": {},
     "outputs": []
    },
    {
     "cell_type": "code",
     "collapsed": false,
     "input": [
      "\n",
      "with open_file('test.txt', 'w') as foo:\n",
      "    print foo\n",
      "    foo.write('skinke')\n",
      "    \n",
      "print foo\n",
      "    \n",
      "with open_file('test.txt') as foo:\n",
      "    for line in foo:\n",
      "        print line"
     ],
     "language": "python",
     "metadata": {},
     "outputs": []
    },
    {
     "cell_type": "code",
     "collapsed": false,
     "input": [
      "!ls\n",
      "\n",
      "with open_file('data.txt') as in_file, open_file(in_file.readline(), 'w') as out_file:\n",
      "    for line in in_file:\n",
      "        out_file.write(line)\n",
      "        \n",
      "with open('dataout.txt') as foo:\n",
      "    for line in foo:\n",
      "        print line,"
     ],
     "language": "python",
     "metadata": {},
     "outputs": []
    },
    {
     "cell_type": "heading",
     "level": 2,
     "metadata": {},
     "source": [
      "contextlib - utilities for common tasks involving the with statement"
     ]
    },
    {
     "cell_type": "code",
     "collapsed": false,
     "input": [
      "from contextlib import contextmanager\n",
      "\n",
      "@contextmanager\n",
      "def bar2():\n",
      "    print 'I too',\n",
      "    yield\n",
      "    print 'turtles!'\n",
      "    \n",
      "with bar2():\n",
      "    print 'like',\n"
     ],
     "language": "python",
     "metadata": {},
     "outputs": []
    },
    {
     "cell_type": "code",
     "collapsed": false,
     "input": [
      "@contextmanager\n",
      "def open_file2(file_name, mode='r'):\n",
      "    foo = open(file_name)\n",
      "    try:\n",
      "        yield foo\n",
      "    finally:\n",
      "        foo.close()\n",
      "\n",
      "with open_file2('data.txt') as foo:\n",
      "    for line in foo:\n",
      "        print line,"
     ],
     "language": "python",
     "metadata": {},
     "outputs": []
    },
    {
     "cell_type": "code",
     "collapsed": false,
     "input": [
      "from contextlib import closing\n",
      "from urllib2 import urlopen\n",
      "\n",
      "with closing(urlopen('http://www.knowit.no')) as page:\n",
      "    print sum(1 for line in page)\n"
     ],
     "language": "python",
     "metadata": {},
     "outputs": []
    },
    {
     "cell_type": "heading",
     "level": 2,
     "metadata": {},
     "source": [
      "Noen selvskrevne contextmanagers"
     ]
    },
    {
     "cell_type": "code",
     "collapsed": false,
     "input": [
      "import time\n",
      "\n",
      "class Timer():\n",
      "    def __init__(self, name=None):\n",
      "        self.name = name\n",
      "\n",
      "    def __enter__(self):\n",
      "        self.start = time.time()\n",
      "        return self\n",
      "\n",
      "    def __exit__(self, *args):\n",
      "        self.interval = time.time() - self.start\n",
      "        if self.name:\n",
      "            print '{} took {:.4}s'.format(self.name, self.interval)\n",
      "\n",
      "    def __str__(self):\n",
      "        return str(self.interval)\n",
      "    \n",
      "with Timer() as t:\n",
      "    time.sleep(2.0)\n",
      "    \n",
      "print 'time: {:.4}s'.format(t.interval)    "
     ],
     "language": "python",
     "metadata": {},
     "outputs": []
    },
    {
     "cell_type": "code",
     "collapsed": false,
     "input": [
      "from threading import Thread\n",
      "import sys, time\n",
      "\n",
      "def spinning_cursor():\n",
      "    while True:\n",
      "        for cursor in '|/-\\\\':\n",
      "            yield cursor\n",
      "            \n",
      "class Ticker(threading.Thread):\n",
      "    def __init__(self, msg):\n",
      "        threading.Thread.__init__(self)\n",
      "        self.msg = msg\n",
      "        self.event = threading.Event()\n",
      "        self.spinner = spinning_cursor()\n",
      "\n",
      "    def __enter__(self):\n",
      "        self.start()\n",
      "\n",
      "    def __exit__(self, *args):\n",
      "        self.event.set()\n",
      "        self.join()\n",
      "\n",
      "    def run(self):\n",
      "        sys.stdout.write(self.msg + '\\n')\n",
      " \n",
      "        while not self.event.isSet():\n",
      "            sys.stdout.write(\"\\r%s \" % self.spinner.next())\n",
      "            sys.stdout.flush()\n",
      "            self.event.wait(0.1)\n",
      "\n",
      "import time\n",
      "\n",
      "with Ticker(\"important calculations \"), Timer(\"important calculations\"):\n",
      "    time.sleep(3)\n"
     ],
     "language": "python",
     "metadata": {},
     "outputs": []
    },
    {
     "cell_type": "code",
     "collapsed": false,
     "input": [
      "@contextmanager\n",
      "def timeAndTick(name=None):\n",
      "    with Ticker(name), Timer(name):\n",
      "        yield\n",
      "        \n",
      "with timeAndTick('tullball'):\n",
      "    time.sleep(2.5)"
     ],
     "language": "python",
     "metadata": {},
     "outputs": []
    },
    {
     "cell_type": "heading",
     "level": 2,
     "metadata": {},
     "source": [
      "Bruksomr\u00e5der"
     ]
    },
    {
     "cell_type": "raw",
     "metadata": {},
     "source": [
      "Filer\n",
      "Thread.lock\n",
      "Skifte mappe   working_directory('../../') \n",
      "logging niv\u00e5   loglevel('info')\n",
      "\n",
      "\n",
      "python 3:\n",
      "contextlib.redirect_stdout(new_target)\n",
      "contextlib.suppress(*exceptions)\n"
     ]
    }
   ],
   "metadata": {}
  }
 ]
}